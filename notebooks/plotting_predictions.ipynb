{
 "cells": [
  {
   "cell_type": "code",
   "execution_count": 11,
   "metadata": {},
   "outputs": [],
   "source": [
    "import sys\n",
    "import pandas as pd\n",
    "sys.path.append(\"../\")\n",
    "from UpStraight_Data import build_features, preprocess_appData, process_user_health, feature_columns, fit_ar1_features, fit_simple_interval_features\n",
    "from UpStraight_Train import training_columns\n",
    "from UpStraight_Visualize import plot_day_prediction_plotly"
   ]
  },
  {
   "cell_type": "code",
   "execution_count": 38,
   "metadata": {},
   "outputs": [],
   "source": [
    "# get lasse prediction data\n",
    "\n",
    "pred = pd.read_csv(\"../data/pred_lass.csv\", converters={\"date\": pd.to_datetime})"
   ]
  },
  {
   "cell_type": "code",
   "execution_count": 39,
   "metadata": {},
   "outputs": [],
   "source": [
    "day = pd.to_datetime(\"2023-02-15\")"
   ]
  },
  {
   "cell_type": "code",
   "execution_count": 53,
   "metadata": {},
   "outputs": [
    {
     "name": "stderr",
     "output_type": "stream",
     "text": [
      "/Users/lasse/Library/Mobile Documents/com~apple~CloudDocs/Health Data/watch_data/UpStraight_analytics/notebooks/../UpStraight_Visualize.py:54: FutureWarning:\n",
      "\n",
      "Comparison of Timestamp with datetime.date is deprecated in order to match the standard library behavior. In a future version these will be considered non-comparable. Use 'ts == pd.Timestamp(date)' or 'ts.date() == date' instead.\n",
      "\n"
     ]
    },
    {
     "data": {
      "application/vnd.plotly.v1+json": {
       "config": {
        "plotlyServerURL": "https://plot.ly"
       },
       "data": [
        {
         "marker": {
          "color": [
           "black",
           "black",
           "black",
           "black",
           "black",
           "black",
           "black",
           "black",
           "black",
           "black",
           "black",
           "black",
           "black",
           "black",
           "black",
           "green",
           "black",
           "black",
           "black",
           "black",
           "green",
           "black",
           "black",
           "black",
           "black",
           "black",
           "black",
           "black",
           "black",
           "green",
           "black",
           "black",
           "black",
           "black",
           "green",
           "black",
           "black",
           "black",
           "black",
           "black",
           "black",
           "black",
           "green",
           "black",
           "black",
           "green",
           "black",
           "black",
           "black",
           "black",
           "black",
           "green",
           "black",
           "green",
           "black",
           "black",
           "black",
           "black",
           "black",
           "green",
           "black",
           "black",
           "black",
           "black",
           "green",
           "black",
           "black",
           "black",
           "black",
           "black",
           "black",
           "black"
          ]
         },
         "showlegend": false,
         "type": "bar",
         "width": 200000,
         "x": [
          "2023-02-15T23:50:34",
          "2023-02-15T23:35:34",
          "2023-02-15T23:20:34",
          "2023-02-15T23:05:34",
          "2023-02-15T22:50:34",
          "2023-02-15T22:35:34",
          "2023-02-15T22:20:34",
          "2023-02-15T22:05:34",
          "2023-02-15T21:50:34",
          "2023-02-15T21:35:34",
          "2023-02-15T21:20:34",
          "2023-02-15T21:05:34",
          "2023-02-15T20:50:34",
          "2023-02-15T20:35:34",
          "2023-02-15T20:20:34",
          "2023-02-15T20:14:44",
          "2023-02-15T20:05:34",
          "2023-02-15T19:50:34",
          "2023-02-15T19:35:34",
          "2023-02-15T19:20:34",
          "2023-02-15T19:09:44",
          "2023-02-15T19:05:34",
          "2023-02-15T18:50:34",
          "2023-02-15T18:35:34",
          "2023-02-15T18:05:34",
          "2023-02-15T17:50:34",
          "2023-02-15T17:35:34",
          "2023-02-15T17:20:34",
          "2023-02-15T17:05:34",
          "2023-02-15T16:51:44",
          "2023-02-15T16:50:34",
          "2023-02-15T16:35:34",
          "2023-02-15T16:20:34",
          "2023-02-15T16:05:34",
          "2023-02-15T15:50:54",
          "2023-02-15T15:50:34",
          "2023-02-15T15:35:34",
          "2023-02-15T15:20:34",
          "2023-02-15T15:05:34",
          "2023-02-15T14:50:34",
          "2023-02-15T14:35:34",
          "2023-02-15T14:20:34",
          "2023-02-15T14:16:22",
          "2023-02-15T14:05:34",
          "2023-02-15T13:50:34",
          "2023-02-15T13:46:52",
          "2023-02-15T13:35:34",
          "2023-02-15T13:20:34",
          "2023-02-15T13:05:34",
          "2023-02-15T12:50:34",
          "2023-02-15T12:35:34",
          "2023-02-15T12:21:53",
          "2023-02-15T12:20:34",
          "2023-02-15T12:06:54",
          "2023-02-15T12:05:34",
          "2023-02-15T11:50:34",
          "2023-02-15T11:35:34",
          "2023-02-15T11:20:34",
          "2023-02-15T11:05:34",
          "2023-02-15T10:53:01",
          "2023-02-15T10:50:34",
          "2023-02-15T10:35:34",
          "2023-02-15T10:20:34",
          "2023-02-15T10:05:34",
          "2023-02-15T10:00:55",
          "2023-02-15T09:50:34",
          "2023-02-15T09:35:34",
          "2023-02-15T09:20:34",
          "2023-02-15T00:50:34",
          "2023-02-15T00:35:34",
          "2023-02-15T00:20:34",
          "2023-02-15T00:05:34"
         ],
         "y": [
          0.283570853491725,
          0.6994092194926296,
          0.8734359379822646,
          0.9019288944576712,
          0.9700157708719724,
          0.7835543958850459,
          0.371821863670579,
          0.5032462313814249,
          0.2991984429531876,
          0.9753343112732022,
          0.9498731707588232,
          0.9700157708719724,
          0.898431609966744,
          0.864807410053219,
          0.9781614900808652,
          0.9626562156493124,
          0.9759569121955126,
          0.968078836404084,
          0.9548567635190311,
          0.97243200516478,
          0.9774625245920016,
          0.8075626902338893,
          0.699921521790222,
          0.8059660885827474,
          0.4726091511534285,
          0.6203755979894197,
          0.4738752528021017,
          0.5329636733615973,
          0.1597683749305732,
          0.0076635878044205,
          0.0320034659357679,
          0.1311607706385298,
          0.4002300920093987,
          0.9759087482627048,
          0.9660457602498675,
          0.9700157708719724,
          0.9091719043172672,
          0.9759087482627048,
          0.9774625245920016,
          0.9715170506270432,
          0.9612786461242868,
          0.7714658780737471,
          0.2541038655460917,
          0.0681794879276343,
          0.2283102255590534,
          0.2955422891993891,
          0.6648058277343136,
          0.9731297333878496,
          0.9759087482627048,
          0.8458002480414015,
          0.8823631164564555,
          0.9039640618085404,
          0.6261509266234635,
          0.3283872533824967,
          0.3283872533824967,
          0.2254711344411582,
          0.5073313760196342,
          0.8258494504344147,
          0.7094745881494695,
          0.783642704308823,
          0.9078303353433976,
          0.8043025335729371,
          0.5247374013120902,
          0.0344151739505638,
          0.1229699923737914,
          0.167664820705932,
          0.1500318531569973,
          0.293546890497576,
          0.6794034203851379,
          0.5381836215650757,
          0.7807134450217251,
          0.8060199270262048
         ]
        },
        {
         "mode": "lines",
         "showlegend": false,
         "type": "scatter",
         "x": [
          "2023-02-15T23:50:34",
          "2023-02-15T23:35:34",
          "2023-02-15T23:20:34",
          "2023-02-15T23:05:34",
          "2023-02-15T22:50:34",
          "2023-02-15T22:35:34",
          "2023-02-15T22:20:34",
          "2023-02-15T22:05:34",
          "2023-02-15T21:50:34",
          "2023-02-15T21:35:34",
          "2023-02-15T21:20:34",
          "2023-02-15T21:05:34",
          "2023-02-15T20:50:34",
          "2023-02-15T20:35:34",
          "2023-02-15T20:20:34",
          "2023-02-15T20:14:44",
          "2023-02-15T20:05:34",
          "2023-02-15T19:50:34",
          "2023-02-15T19:35:34",
          "2023-02-15T19:20:34",
          "2023-02-15T19:09:44",
          "2023-02-15T19:05:34",
          "2023-02-15T18:50:34",
          "2023-02-15T18:35:34",
          "2023-02-15T18:05:34",
          "2023-02-15T17:50:34",
          "2023-02-15T17:35:34",
          "2023-02-15T17:20:34",
          "2023-02-15T17:05:34",
          "2023-02-15T16:51:44",
          "2023-02-15T16:50:34",
          "2023-02-15T16:35:34",
          "2023-02-15T16:20:34",
          "2023-02-15T16:05:34",
          "2023-02-15T15:50:54",
          "2023-02-15T15:50:34",
          "2023-02-15T15:35:34",
          "2023-02-15T15:20:34",
          "2023-02-15T15:05:34",
          "2023-02-15T14:50:34",
          "2023-02-15T14:35:34",
          "2023-02-15T14:20:34",
          "2023-02-15T14:16:22",
          "2023-02-15T14:05:34",
          "2023-02-15T13:50:34",
          "2023-02-15T13:46:52",
          "2023-02-15T13:35:34",
          "2023-02-15T13:20:34",
          "2023-02-15T13:05:34",
          "2023-02-15T12:50:34",
          "2023-02-15T12:35:34",
          "2023-02-15T12:21:53",
          "2023-02-15T12:20:34",
          "2023-02-15T12:06:54",
          "2023-02-15T12:05:34",
          "2023-02-15T11:50:34",
          "2023-02-15T11:35:34",
          "2023-02-15T11:20:34",
          "2023-02-15T11:05:34",
          "2023-02-15T10:53:01",
          "2023-02-15T10:50:34",
          "2023-02-15T10:35:34",
          "2023-02-15T10:20:34",
          "2023-02-15T10:05:34",
          "2023-02-15T10:00:55",
          "2023-02-15T09:50:34",
          "2023-02-15T09:35:34",
          "2023-02-15T09:20:34",
          "2023-02-15T00:50:34",
          "2023-02-15T00:35:34",
          "2023-02-15T00:20:34",
          "2023-02-15T00:05:34"
         ],
         "y": [
          0.283570853491725,
          0.6994092194926296,
          0.8734359379822646,
          0.9019288944576712,
          0.9700157708719724,
          0.7835543958850459,
          0.371821863670579,
          0.5032462313814249,
          0.2991984429531876,
          0.9753343112732022,
          0.9498731707588232,
          0.9700157708719724,
          0.898431609966744,
          0.864807410053219,
          0.9781614900808652,
          0.9626562156493124,
          0.9759569121955126,
          0.968078836404084,
          0.9548567635190311,
          0.97243200516478,
          0.9774625245920016,
          0.8075626902338893,
          0.699921521790222,
          0.8059660885827474,
          0.4726091511534285,
          0.6203755979894197,
          0.4738752528021017,
          0.5329636733615973,
          0.1597683749305732,
          0.0076635878044205,
          0.0320034659357679,
          0.1311607706385298,
          0.4002300920093987,
          0.9759087482627048,
          0.9660457602498675,
          0.9700157708719724,
          0.9091719043172672,
          0.9759087482627048,
          0.9774625245920016,
          0.9715170506270432,
          0.9612786461242868,
          0.7714658780737471,
          0.2541038655460917,
          0.0681794879276343,
          0.2283102255590534,
          0.2955422891993891,
          0.6648058277343136,
          0.9731297333878496,
          0.9759087482627048,
          0.8458002480414015,
          0.8823631164564555,
          0.9039640618085404,
          0.6261509266234635,
          0.3283872533824967,
          0.3283872533824967,
          0.2254711344411582,
          0.5073313760196342,
          0.8258494504344147,
          0.7094745881494695,
          0.783642704308823,
          0.9078303353433976,
          0.8043025335729371,
          0.5247374013120902,
          0.0344151739505638,
          0.1229699923737914,
          0.167664820705932,
          0.1500318531569973,
          0.293546890497576,
          0.6794034203851379,
          0.5381836215650757,
          0.7807134450217251,
          0.8060199270262048
         ]
        }
       ],
       "layout": {
        "shapes": [
         {
          "line": {
           "color": "green",
           "dash": "dash",
           "width": 2
          },
          "type": "line",
          "x0": 0,
          "x1": 1,
          "xref": "x domain",
          "y0": 0.5,
          "y1": 0.5,
          "yref": "y"
         }
        ],
        "template": {
         "data": {
          "bar": [
           {
            "error_x": {
             "color": "#2a3f5f"
            },
            "error_y": {
             "color": "#2a3f5f"
            },
            "marker": {
             "line": {
              "color": "#E5ECF6",
              "width": 0.5
             },
             "pattern": {
              "fillmode": "overlay",
              "size": 10,
              "solidity": 0.2
             }
            },
            "type": "bar"
           }
          ],
          "barpolar": [
           {
            "marker": {
             "line": {
              "color": "#E5ECF6",
              "width": 0.5
             },
             "pattern": {
              "fillmode": "overlay",
              "size": 10,
              "solidity": 0.2
             }
            },
            "type": "barpolar"
           }
          ],
          "carpet": [
           {
            "aaxis": {
             "endlinecolor": "#2a3f5f",
             "gridcolor": "white",
             "linecolor": "white",
             "minorgridcolor": "white",
             "startlinecolor": "#2a3f5f"
            },
            "baxis": {
             "endlinecolor": "#2a3f5f",
             "gridcolor": "white",
             "linecolor": "white",
             "minorgridcolor": "white",
             "startlinecolor": "#2a3f5f"
            },
            "type": "carpet"
           }
          ],
          "choropleth": [
           {
            "colorbar": {
             "outlinewidth": 0,
             "ticks": ""
            },
            "type": "choropleth"
           }
          ],
          "contour": [
           {
            "colorbar": {
             "outlinewidth": 0,
             "ticks": ""
            },
            "colorscale": [
             [
              0,
              "#0d0887"
             ],
             [
              0.1111111111111111,
              "#46039f"
             ],
             [
              0.2222222222222222,
              "#7201a8"
             ],
             [
              0.3333333333333333,
              "#9c179e"
             ],
             [
              0.4444444444444444,
              "#bd3786"
             ],
             [
              0.5555555555555556,
              "#d8576b"
             ],
             [
              0.6666666666666666,
              "#ed7953"
             ],
             [
              0.7777777777777778,
              "#fb9f3a"
             ],
             [
              0.8888888888888888,
              "#fdca26"
             ],
             [
              1,
              "#f0f921"
             ]
            ],
            "type": "contour"
           }
          ],
          "contourcarpet": [
           {
            "colorbar": {
             "outlinewidth": 0,
             "ticks": ""
            },
            "type": "contourcarpet"
           }
          ],
          "heatmap": [
           {
            "colorbar": {
             "outlinewidth": 0,
             "ticks": ""
            },
            "colorscale": [
             [
              0,
              "#0d0887"
             ],
             [
              0.1111111111111111,
              "#46039f"
             ],
             [
              0.2222222222222222,
              "#7201a8"
             ],
             [
              0.3333333333333333,
              "#9c179e"
             ],
             [
              0.4444444444444444,
              "#bd3786"
             ],
             [
              0.5555555555555556,
              "#d8576b"
             ],
             [
              0.6666666666666666,
              "#ed7953"
             ],
             [
              0.7777777777777778,
              "#fb9f3a"
             ],
             [
              0.8888888888888888,
              "#fdca26"
             ],
             [
              1,
              "#f0f921"
             ]
            ],
            "type": "heatmap"
           }
          ],
          "heatmapgl": [
           {
            "colorbar": {
             "outlinewidth": 0,
             "ticks": ""
            },
            "colorscale": [
             [
              0,
              "#0d0887"
             ],
             [
              0.1111111111111111,
              "#46039f"
             ],
             [
              0.2222222222222222,
              "#7201a8"
             ],
             [
              0.3333333333333333,
              "#9c179e"
             ],
             [
              0.4444444444444444,
              "#bd3786"
             ],
             [
              0.5555555555555556,
              "#d8576b"
             ],
             [
              0.6666666666666666,
              "#ed7953"
             ],
             [
              0.7777777777777778,
              "#fb9f3a"
             ],
             [
              0.8888888888888888,
              "#fdca26"
             ],
             [
              1,
              "#f0f921"
             ]
            ],
            "type": "heatmapgl"
           }
          ],
          "histogram": [
           {
            "marker": {
             "pattern": {
              "fillmode": "overlay",
              "size": 10,
              "solidity": 0.2
             }
            },
            "type": "histogram"
           }
          ],
          "histogram2d": [
           {
            "colorbar": {
             "outlinewidth": 0,
             "ticks": ""
            },
            "colorscale": [
             [
              0,
              "#0d0887"
             ],
             [
              0.1111111111111111,
              "#46039f"
             ],
             [
              0.2222222222222222,
              "#7201a8"
             ],
             [
              0.3333333333333333,
              "#9c179e"
             ],
             [
              0.4444444444444444,
              "#bd3786"
             ],
             [
              0.5555555555555556,
              "#d8576b"
             ],
             [
              0.6666666666666666,
              "#ed7953"
             ],
             [
              0.7777777777777778,
              "#fb9f3a"
             ],
             [
              0.8888888888888888,
              "#fdca26"
             ],
             [
              1,
              "#f0f921"
             ]
            ],
            "type": "histogram2d"
           }
          ],
          "histogram2dcontour": [
           {
            "colorbar": {
             "outlinewidth": 0,
             "ticks": ""
            },
            "colorscale": [
             [
              0,
              "#0d0887"
             ],
             [
              0.1111111111111111,
              "#46039f"
             ],
             [
              0.2222222222222222,
              "#7201a8"
             ],
             [
              0.3333333333333333,
              "#9c179e"
             ],
             [
              0.4444444444444444,
              "#bd3786"
             ],
             [
              0.5555555555555556,
              "#d8576b"
             ],
             [
              0.6666666666666666,
              "#ed7953"
             ],
             [
              0.7777777777777778,
              "#fb9f3a"
             ],
             [
              0.8888888888888888,
              "#fdca26"
             ],
             [
              1,
              "#f0f921"
             ]
            ],
            "type": "histogram2dcontour"
           }
          ],
          "mesh3d": [
           {
            "colorbar": {
             "outlinewidth": 0,
             "ticks": ""
            },
            "type": "mesh3d"
           }
          ],
          "parcoords": [
           {
            "line": {
             "colorbar": {
              "outlinewidth": 0,
              "ticks": ""
             }
            },
            "type": "parcoords"
           }
          ],
          "pie": [
           {
            "automargin": true,
            "type": "pie"
           }
          ],
          "scatter": [
           {
            "fillpattern": {
             "fillmode": "overlay",
             "size": 10,
             "solidity": 0.2
            },
            "type": "scatter"
           }
          ],
          "scatter3d": [
           {
            "line": {
             "colorbar": {
              "outlinewidth": 0,
              "ticks": ""
             }
            },
            "marker": {
             "colorbar": {
              "outlinewidth": 0,
              "ticks": ""
             }
            },
            "type": "scatter3d"
           }
          ],
          "scattercarpet": [
           {
            "marker": {
             "colorbar": {
              "outlinewidth": 0,
              "ticks": ""
             }
            },
            "type": "scattercarpet"
           }
          ],
          "scattergeo": [
           {
            "marker": {
             "colorbar": {
              "outlinewidth": 0,
              "ticks": ""
             }
            },
            "type": "scattergeo"
           }
          ],
          "scattergl": [
           {
            "marker": {
             "colorbar": {
              "outlinewidth": 0,
              "ticks": ""
             }
            },
            "type": "scattergl"
           }
          ],
          "scattermapbox": [
           {
            "marker": {
             "colorbar": {
              "outlinewidth": 0,
              "ticks": ""
             }
            },
            "type": "scattermapbox"
           }
          ],
          "scatterpolar": [
           {
            "marker": {
             "colorbar": {
              "outlinewidth": 0,
              "ticks": ""
             }
            },
            "type": "scatterpolar"
           }
          ],
          "scatterpolargl": [
           {
            "marker": {
             "colorbar": {
              "outlinewidth": 0,
              "ticks": ""
             }
            },
            "type": "scatterpolargl"
           }
          ],
          "scatterternary": [
           {
            "marker": {
             "colorbar": {
              "outlinewidth": 0,
              "ticks": ""
             }
            },
            "type": "scatterternary"
           }
          ],
          "surface": [
           {
            "colorbar": {
             "outlinewidth": 0,
             "ticks": ""
            },
            "colorscale": [
             [
              0,
              "#0d0887"
             ],
             [
              0.1111111111111111,
              "#46039f"
             ],
             [
              0.2222222222222222,
              "#7201a8"
             ],
             [
              0.3333333333333333,
              "#9c179e"
             ],
             [
              0.4444444444444444,
              "#bd3786"
             ],
             [
              0.5555555555555556,
              "#d8576b"
             ],
             [
              0.6666666666666666,
              "#ed7953"
             ],
             [
              0.7777777777777778,
              "#fb9f3a"
             ],
             [
              0.8888888888888888,
              "#fdca26"
             ],
             [
              1,
              "#f0f921"
             ]
            ],
            "type": "surface"
           }
          ],
          "table": [
           {
            "cells": {
             "fill": {
              "color": "#EBF0F8"
             },
             "line": {
              "color": "white"
             }
            },
            "header": {
             "fill": {
              "color": "#C8D4E3"
             },
             "line": {
              "color": "white"
             }
            },
            "type": "table"
           }
          ]
         },
         "layout": {
          "annotationdefaults": {
           "arrowcolor": "#2a3f5f",
           "arrowhead": 0,
           "arrowwidth": 1
          },
          "autotypenumbers": "strict",
          "coloraxis": {
           "colorbar": {
            "outlinewidth": 0,
            "ticks": ""
           }
          },
          "colorscale": {
           "diverging": [
            [
             0,
             "#8e0152"
            ],
            [
             0.1,
             "#c51b7d"
            ],
            [
             0.2,
             "#de77ae"
            ],
            [
             0.3,
             "#f1b6da"
            ],
            [
             0.4,
             "#fde0ef"
            ],
            [
             0.5,
             "#f7f7f7"
            ],
            [
             0.6,
             "#e6f5d0"
            ],
            [
             0.7,
             "#b8e186"
            ],
            [
             0.8,
             "#7fbc41"
            ],
            [
             0.9,
             "#4d9221"
            ],
            [
             1,
             "#276419"
            ]
           ],
           "sequential": [
            [
             0,
             "#0d0887"
            ],
            [
             0.1111111111111111,
             "#46039f"
            ],
            [
             0.2222222222222222,
             "#7201a8"
            ],
            [
             0.3333333333333333,
             "#9c179e"
            ],
            [
             0.4444444444444444,
             "#bd3786"
            ],
            [
             0.5555555555555556,
             "#d8576b"
            ],
            [
             0.6666666666666666,
             "#ed7953"
            ],
            [
             0.7777777777777778,
             "#fb9f3a"
            ],
            [
             0.8888888888888888,
             "#fdca26"
            ],
            [
             1,
             "#f0f921"
            ]
           ],
           "sequentialminus": [
            [
             0,
             "#0d0887"
            ],
            [
             0.1111111111111111,
             "#46039f"
            ],
            [
             0.2222222222222222,
             "#7201a8"
            ],
            [
             0.3333333333333333,
             "#9c179e"
            ],
            [
             0.4444444444444444,
             "#bd3786"
            ],
            [
             0.5555555555555556,
             "#d8576b"
            ],
            [
             0.6666666666666666,
             "#ed7953"
            ],
            [
             0.7777777777777778,
             "#fb9f3a"
            ],
            [
             0.8888888888888888,
             "#fdca26"
            ],
            [
             1,
             "#f0f921"
            ]
           ]
          },
          "colorway": [
           "#636efa",
           "#EF553B",
           "#00cc96",
           "#ab63fa",
           "#FFA15A",
           "#19d3f3",
           "#FF6692",
           "#B6E880",
           "#FF97FF",
           "#FECB52"
          ],
          "font": {
           "color": "#2a3f5f"
          },
          "geo": {
           "bgcolor": "white",
           "lakecolor": "white",
           "landcolor": "#E5ECF6",
           "showlakes": true,
           "showland": true,
           "subunitcolor": "white"
          },
          "hoverlabel": {
           "align": "left"
          },
          "hovermode": "closest",
          "mapbox": {
           "style": "light"
          },
          "paper_bgcolor": "white",
          "plot_bgcolor": "#E5ECF6",
          "polar": {
           "angularaxis": {
            "gridcolor": "white",
            "linecolor": "white",
            "ticks": ""
           },
           "bgcolor": "#E5ECF6",
           "radialaxis": {
            "gridcolor": "white",
            "linecolor": "white",
            "ticks": ""
           }
          },
          "scene": {
           "xaxis": {
            "backgroundcolor": "#E5ECF6",
            "gridcolor": "white",
            "gridwidth": 2,
            "linecolor": "white",
            "showbackground": true,
            "ticks": "",
            "zerolinecolor": "white"
           },
           "yaxis": {
            "backgroundcolor": "#E5ECF6",
            "gridcolor": "white",
            "gridwidth": 2,
            "linecolor": "white",
            "showbackground": true,
            "ticks": "",
            "zerolinecolor": "white"
           },
           "zaxis": {
            "backgroundcolor": "#E5ECF6",
            "gridcolor": "white",
            "gridwidth": 2,
            "linecolor": "white",
            "showbackground": true,
            "ticks": "",
            "zerolinecolor": "white"
           }
          },
          "shapedefaults": {
           "line": {
            "color": "#2a3f5f"
           }
          },
          "ternary": {
           "aaxis": {
            "gridcolor": "white",
            "linecolor": "white",
            "ticks": ""
           },
           "baxis": {
            "gridcolor": "white",
            "linecolor": "white",
            "ticks": ""
           },
           "bgcolor": "#E5ECF6",
           "caxis": {
            "gridcolor": "white",
            "linecolor": "white",
            "ticks": ""
           }
          },
          "title": {
           "x": 0.05
          },
          "xaxis": {
           "automargin": true,
           "gridcolor": "white",
           "linecolor": "white",
           "ticks": "",
           "title": {
            "standoff": 15
           },
           "zerolinecolor": "white",
           "zerolinewidth": 2
          },
          "yaxis": {
           "automargin": true,
           "gridcolor": "white",
           "linecolor": "white",
           "ticks": "",
           "title": {
            "standoff": 15
           },
           "zerolinecolor": "white",
           "zerolinewidth": 2
          }
         }
        },
        "title": {
         "text": "Predicted slouching probabilities for 15 min intervals on 2023-02-15 00:00:00"
        }
       }
      }
     },
     "metadata": {},
     "output_type": "display_data"
    }
   ],
   "source": [
    "plot_day_prediction_plotly(pred, day)"
   ]
  },
  {
   "cell_type": "code",
   "execution_count": 49,
   "metadata": {},
   "outputs": [
    {
     "name": "stderr",
     "output_type": "stream",
     "text": [
      "[autoreload of UpStraight_Visualize failed: Traceback (most recent call last):\n",
      "  File \"/Users/lasse/miniconda3/envs/eda/lib/python3.10/site-packages/IPython/extensions/autoreload.py\", line 261, in check\n",
      "    superreload(m, reload, self.old_objects)\n",
      "  File \"/Users/lasse/miniconda3/envs/eda/lib/python3.10/site-packages/IPython/extensions/autoreload.py\", line 459, in superreload\n",
      "    module = reload(module)\n",
      "  File \"/Users/lasse/miniconda3/envs/eda/lib/python3.10/importlib/__init__.py\", line 169, in reload\n",
      "    _bootstrap._exec(spec, module)\n",
      "  File \"<frozen importlib._bootstrap>\", line 619, in _exec\n",
      "  File \"<frozen importlib._bootstrap_external>\", line 879, in exec_module\n",
      "  File \"<frozen importlib._bootstrap_external>\", line 1017, in get_code\n",
      "  File \"<frozen importlib._bootstrap_external>\", line 947, in source_to_code\n",
      "  File \"<frozen importlib._bootstrap>\", line 241, in _call_with_frames_removed\n",
      "  File \"/Users/lasse/Library/Mobile Documents/com~apple~CloudDocs/Health Data/watch_data/UpStraight_analytics/notebooks/../UpStraight_Visualize.py\", line 57\n",
      "    f.add_trace(go.Bar(x=prediction_day.date,y=prediction_day.proba, showlegend=False, width=200000, marker_color=))\n",
      "                                                                                                                  ^\n",
      "SyntaxError: invalid syntax\n",
      "]\n",
      "/var/folders/yx/_8fch6cj6w5cfvy2xlfjrsyw0000gn/T/ipykernel_77371/2311393107.py:2: FutureWarning:\n",
      "\n",
      "Comparison of Timestamp with datetime.date is deprecated in order to match the standard library behavior. In a future version these will be considered non-comparable. Use 'ts == pd.Timestamp(date)' or 'ts.date() == date' instead.\n",
      "\n"
     ]
    }
   ],
   "source": [
    "# value count of days on subset of train\n",
    "dd = pred[pred[\"date\"].dt.date == day]"
   ]
  },
  {
   "cell_type": "code",
   "execution_count": 52,
   "metadata": {},
   "outputs": [
    {
     "data": {
      "text/plain": [
       "210    black\n",
       "211    black\n",
       "212    black\n",
       "213    black\n",
       "214    black\n",
       "       ...  \n",
       "906    green\n",
       "907    green\n",
       "908    green\n",
       "909    green\n",
       "910    green\n",
       "Name: train, Length: 72, dtype: object"
      ]
     },
     "execution_count": 52,
     "metadata": {},
     "output_type": "execute_result"
    }
   ],
   "source": [
    "color_map = {True: \"green\", False: \"black\"}\n",
    "dd.train.map(color_map)"
   ]
  }
 ],
 "metadata": {
  "kernelspec": {
   "display_name": "eda",
   "language": "python",
   "name": "python3"
  },
  "language_info": {
   "codemirror_mode": {
    "name": "ipython",
    "version": 3
   },
   "file_extension": ".py",
   "mimetype": "text/x-python",
   "name": "python",
   "nbconvert_exporter": "python",
   "pygments_lexer": "ipython3",
   "version": "3.10.8"
  },
  "orig_nbformat": 4
 },
 "nbformat": 4,
 "nbformat_minor": 2
}
