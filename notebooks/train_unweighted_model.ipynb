{
 "cells": [
  {
   "cell_type": "code",
   "execution_count": 1,
   "metadata": {},
   "outputs": [],
   "source": [
    "%load_ext autoreload\n",
    "%autoreload 2"
   ]
  },
  {
   "cell_type": "code",
   "execution_count": 2,
   "metadata": {},
   "outputs": [],
   "source": [
    "from sklearn.model_selection import GridSearchCV\n",
    "from sklearn.ensemble import RandomForestClassifier\n",
    "import pandas as pd\n",
    "import sys\n",
    "sys.path.append(\"../\")\n",
    "from UpStraight_Train import training_columns"
   ]
  },
  {
   "cell_type": "code",
   "execution_count": 27,
   "metadata": {},
   "outputs": [],
   "source": [
    "# get training data\n",
    "data = pd.read_csv('../data/train.csv').dropna()\n",
    "data[\"posture\"] = data[\"posture\"].map({-1:0,0:0,1:1})"
   ]
  },
  {
   "cell_type": "markdown",
   "metadata": {},
   "source": [
    "### Adding MetaData to training Data"
   ]
  },
  {
   "cell_type": "code",
   "execution_count": 28,
   "metadata": {},
   "outputs": [
    {
     "data": {
      "text/plain": [
       "{'lass': {'id': 'lass',\n",
       "  'gender': '0',\n",
       "  'firstName': None,\n",
       "  'lastName': None,\n",
       "  'dateOfBirth': '1999-03-26 16:27:23 +0000',\n",
       "  'height': '189',\n",
       "  'weight': '82',\n",
       "  'activity': '2'},\n",
       " 'far': {'id': 'far',\n",
       "  'gender': '0',\n",
       "  'firstName': None,\n",
       "  'lastName': None,\n",
       "  'dateOfBirth': '1965-09-22 16:27:23 +0000',\n",
       "  'height': '186',\n",
       "  'weight': '76',\n",
       "  'activity': '1'},\n",
       " 'cr': {'id': 'cr',\n",
       "  'gender': '0',\n",
       "  'firstName': None,\n",
       "  'lastName': None,\n",
       "  'dateOfBirth': '2000-01-04 16:27:23 +0000',\n",
       "  'height': '181',\n",
       "  'weight': '71',\n",
       "  'activity': '1'},\n",
       " 'as': {'id': 'as',\n",
       "  'gender': '0',\n",
       "  'firstName': None,\n",
       "  'lastName': None,\n",
       "  'dateOfBirth': '2000-04-26 16:27:23 +0000',\n",
       "  'height': '176',\n",
       "  'weight': '70',\n",
       "  'activity': '2'},\n",
       " 'dotz': {'id': 'dotz',\n",
       "  'gender': '1',\n",
       "  'firstName': None,\n",
       "  'lastName': None,\n",
       "  'dateOfBirth': '2004-06-19 16:27:23 +0000',\n",
       "  'height': '165',\n",
       "  'weight': '57',\n",
       "  'activity': '2'}}"
      ]
     },
     "execution_count": 28,
     "metadata": {},
     "output_type": "execute_result"
    }
   ],
   "source": [
    "# read metadata from metadata.json as a dict\n",
    "metadata = pd.read_json('../data/metadata.json', orient='index').to_dict(orient='index')[\"metadata\"]\n",
    "metadata"
   ]
  },
  {
   "cell_type": "code",
   "execution_count": 29,
   "metadata": {},
   "outputs": [],
   "source": [
    "# add each entry in metadata as a row in new dataframe\n",
    "metadata_df = pd.DataFrame(metadata).transpose().rename(columns={\"id\":\"source\"})\n",
    "# make height and weight numeric\n",
    "metadata_df[\"height\"] = pd.to_numeric(metadata_df[\"height\"], errors='coerce')\n",
    "metadata_df[\"weight\"] = pd.to_numeric(metadata_df[\"weight\"], errors='coerce')\n",
    "# set gender to integer (equivalent to one hot encoding here)\n",
    "metadata_df[\"gender\"] = metadata_df[\"gender\"].astype(int)"
   ]
  },
  {
   "cell_type": "code",
   "execution_count": 30,
   "metadata": {},
   "outputs": [],
   "source": [
    "data_md = pd.merge(data, metadata_df, on=\"source\", how=\"left\")"
   ]
  },
  {
   "cell_type": "code",
   "execution_count": 31,
   "metadata": {},
   "outputs": [],
   "source": [
    "# add age column to training_columns by taking difference between dateOfBirth and today in years\n",
    "data_md[\"age\"] = round((pd.to_datetime(\"today\") - pd.to_datetime(data_md[\"dateOfBirth\"]).dt.tz_localize(None)).dt.days / 365.25)"
   ]
  },
  {
   "cell_type": "markdown",
   "metadata": {},
   "source": [
    "### Train a simple (CVGrid optimized) RandomForest"
   ]
  },
  {
   "cell_type": "code",
   "execution_count": 34,
   "metadata": {},
   "outputs": [
    {
     "name": "stdout",
     "output_type": "stream",
     "text": [
      "Fitting 5 folds for each of 36 candidates, totalling 180 fits\n"
     ]
    }
   ],
   "source": [
    "y = data_md[\"posture\"]\n",
    "X = data_md[training_columns + [\"age\",\"gender\",\"height\",\"weight\"]] # leave out activity for now\n",
    "# one hot encode gender and activity\n",
    "param_grid = {\"max_depth\": [3,4,5,7,9,12],\"n_estimators\": [10,20,30,40,50,100]}\n",
    "grid_search = GridSearchCV(RandomForestClassifier(), param_grid, cv=5, verbose=1, n_jobs=-1)\n",
    "grid_search_results = grid_search.fit(X, y) \n"
   ]
  },
  {
   "cell_type": "code",
   "execution_count": 35,
   "metadata": {},
   "outputs": [
    {
     "data": {
      "text/html": [
       "<div>\n",
       "<style scoped>\n",
       "    .dataframe tbody tr th:only-of-type {\n",
       "        vertical-align: middle;\n",
       "    }\n",
       "\n",
       "    .dataframe tbody tr th {\n",
       "        vertical-align: top;\n",
       "    }\n",
       "\n",
       "    .dataframe thead th {\n",
       "        text-align: right;\n",
       "    }\n",
       "</style>\n",
       "<table border=\"1\" class=\"dataframe\">\n",
       "  <thead>\n",
       "    <tr style=\"text-align: right;\">\n",
       "      <th></th>\n",
       "      <th>mean_fit_time</th>\n",
       "      <th>std_fit_time</th>\n",
       "      <th>mean_score_time</th>\n",
       "      <th>std_score_time</th>\n",
       "      <th>param_max_depth</th>\n",
       "      <th>param_n_estimators</th>\n",
       "      <th>params</th>\n",
       "      <th>split0_test_score</th>\n",
       "      <th>split1_test_score</th>\n",
       "      <th>split2_test_score</th>\n",
       "      <th>split3_test_score</th>\n",
       "      <th>split4_test_score</th>\n",
       "      <th>mean_test_score</th>\n",
       "      <th>std_test_score</th>\n",
       "      <th>rank_test_score</th>\n",
       "    </tr>\n",
       "  </thead>\n",
       "  <tbody>\n",
       "    <tr>\n",
       "      <th>1</th>\n",
       "      <td>0.013178</td>\n",
       "      <td>0.001885</td>\n",
       "      <td>0.001359</td>\n",
       "      <td>0.000171</td>\n",
       "      <td>3</td>\n",
       "      <td>20</td>\n",
       "      <td>{'max_depth': 3, 'n_estimators': 20}</td>\n",
       "      <td>0.676923</td>\n",
       "      <td>0.600000</td>\n",
       "      <td>0.584615</td>\n",
       "      <td>0.718750</td>\n",
       "      <td>0.515625</td>\n",
       "      <td>0.619183</td>\n",
       "      <td>0.071463</td>\n",
       "      <td>1</td>\n",
       "    </tr>\n",
       "    <tr>\n",
       "      <th>10</th>\n",
       "      <td>0.034174</td>\n",
       "      <td>0.005739</td>\n",
       "      <td>0.001697</td>\n",
       "      <td>0.000103</td>\n",
       "      <td>4</td>\n",
       "      <td>50</td>\n",
       "      <td>{'max_depth': 4, 'n_estimators': 50}</td>\n",
       "      <td>0.584615</td>\n",
       "      <td>0.584615</td>\n",
       "      <td>0.600000</td>\n",
       "      <td>0.656250</td>\n",
       "      <td>0.515625</td>\n",
       "      <td>0.588221</td>\n",
       "      <td>0.044862</td>\n",
       "      <td>2</td>\n",
       "    </tr>\n",
       "    <tr>\n",
       "      <th>8</th>\n",
       "      <td>0.018746</td>\n",
       "      <td>0.003123</td>\n",
       "      <td>0.001733</td>\n",
       "      <td>0.000926</td>\n",
       "      <td>4</td>\n",
       "      <td>30</td>\n",
       "      <td>{'max_depth': 4, 'n_estimators': 30}</td>\n",
       "      <td>0.523077</td>\n",
       "      <td>0.569231</td>\n",
       "      <td>0.584615</td>\n",
       "      <td>0.640625</td>\n",
       "      <td>0.593750</td>\n",
       "      <td>0.582260</td>\n",
       "      <td>0.037991</td>\n",
       "      <td>3</td>\n",
       "    </tr>\n",
       "  </tbody>\n",
       "</table>\n",
       "</div>"
      ],
      "text/plain": [
       "    mean_fit_time  std_fit_time  mean_score_time  std_score_time  \\\n",
       "1        0.013178      0.001885         0.001359        0.000171   \n",
       "10       0.034174      0.005739         0.001697        0.000103   \n",
       "8        0.018746      0.003123         0.001733        0.000926   \n",
       "\n",
       "   param_max_depth param_n_estimators                                params  \\\n",
       "1                3                 20  {'max_depth': 3, 'n_estimators': 20}   \n",
       "10               4                 50  {'max_depth': 4, 'n_estimators': 50}   \n",
       "8                4                 30  {'max_depth': 4, 'n_estimators': 30}   \n",
       "\n",
       "    split0_test_score  split1_test_score  split2_test_score  \\\n",
       "1            0.676923           0.600000           0.584615   \n",
       "10           0.584615           0.584615           0.600000   \n",
       "8            0.523077           0.569231           0.584615   \n",
       "\n",
       "    split3_test_score  split4_test_score  mean_test_score  std_test_score  \\\n",
       "1            0.718750           0.515625         0.619183        0.071463   \n",
       "10           0.656250           0.515625         0.588221        0.044862   \n",
       "8            0.640625           0.593750         0.582260        0.037991   \n",
       "\n",
       "    rank_test_score  \n",
       "1                 1  \n",
       "10                2  \n",
       "8                 3  "
      ]
     },
     "execution_count": 35,
     "metadata": {},
     "output_type": "execute_result"
    }
   ],
   "source": [
    "pd.DataFrame(grid_search_results.cv_results_).sort_values(by=\"rank_test_score\").head(3)"
   ]
  },
  {
   "cell_type": "code",
   "execution_count": 36,
   "metadata": {},
   "outputs": [],
   "source": [
    "best = grid_search_results.best_estimator_\n",
    "preds = best.predict(X)"
   ]
  },
  {
   "cell_type": "markdown",
   "metadata": {},
   "source": [
    "The model does not really consider the metadata at all. It also doesnt really use ApplestandTime:"
   ]
  },
  {
   "cell_type": "code",
   "execution_count": 37,
   "metadata": {},
   "outputs": [
    {
     "data": {
      "text/html": [
       "<div>\n",
       "<style scoped>\n",
       "    .dataframe tbody tr th:only-of-type {\n",
       "        vertical-align: middle;\n",
       "    }\n",
       "\n",
       "    .dataframe tbody tr th {\n",
       "        vertical-align: top;\n",
       "    }\n",
       "\n",
       "    .dataframe thead th {\n",
       "        text-align: right;\n",
       "    }\n",
       "</style>\n",
       "<table border=\"1\" class=\"dataframe\">\n",
       "  <thead>\n",
       "    <tr style=\"text-align: right;\">\n",
       "      <th></th>\n",
       "      <th>feature</th>\n",
       "      <th>importance</th>\n",
       "    </tr>\n",
       "  </thead>\n",
       "  <tbody>\n",
       "    <tr>\n",
       "      <th>8</th>\n",
       "      <td>ActiveEnergyBurned_15_min</td>\n",
       "      <td>0.132073</td>\n",
       "    </tr>\n",
       "    <tr>\n",
       "      <th>20</th>\n",
       "      <td>HeartRate_30_std</td>\n",
       "      <td>0.099675</td>\n",
       "    </tr>\n",
       "    <tr>\n",
       "      <th>17</th>\n",
       "      <td>HeartRate_30_mean</td>\n",
       "      <td>0.073433</td>\n",
       "    </tr>\n",
       "    <tr>\n",
       "      <th>7</th>\n",
       "      <td>ActiveEnergyBurned_15_max</td>\n",
       "      <td>0.067340</td>\n",
       "    </tr>\n",
       "    <tr>\n",
       "      <th>4</th>\n",
       "      <td>HeartRate_15_std</td>\n",
       "      <td>0.048264</td>\n",
       "    </tr>\n",
       "    <tr>\n",
       "      <th>6</th>\n",
       "      <td>ActiveEnergyBurned_15_mean</td>\n",
       "      <td>0.048170</td>\n",
       "    </tr>\n",
       "    <tr>\n",
       "      <th>1</th>\n",
       "      <td>HeartRate_15_mean</td>\n",
       "      <td>0.047298</td>\n",
       "    </tr>\n",
       "    <tr>\n",
       "      <th>23</th>\n",
       "      <td>ActiveEnergyBurned_30_max</td>\n",
       "      <td>0.043354</td>\n",
       "    </tr>\n",
       "    <tr>\n",
       "      <th>19</th>\n",
       "      <td>HeartRate_30_min</td>\n",
       "      <td>0.037691</td>\n",
       "    </tr>\n",
       "    <tr>\n",
       "      <th>0</th>\n",
       "      <td>hour</td>\n",
       "      <td>0.033766</td>\n",
       "    </tr>\n",
       "    <tr>\n",
       "      <th>3</th>\n",
       "      <td>HeartRate_15_min</td>\n",
       "      <td>0.032144</td>\n",
       "    </tr>\n",
       "    <tr>\n",
       "      <th>30</th>\n",
       "      <td>AppleStandTime_30_range</td>\n",
       "      <td>0.031542</td>\n",
       "    </tr>\n",
       "    <tr>\n",
       "      <th>2</th>\n",
       "      <td>HeartRate_15_max</td>\n",
       "      <td>0.030728</td>\n",
       "    </tr>\n",
       "    <tr>\n",
       "      <th>15</th>\n",
       "      <td>HeartRate_15_ar1_coef</td>\n",
       "      <td>0.029899</td>\n",
       "    </tr>\n",
       "    <tr>\n",
       "      <th>22</th>\n",
       "      <td>ActiveEnergyBurned_30_mean</td>\n",
       "      <td>0.028382</td>\n",
       "    </tr>\n",
       "    <tr>\n",
       "      <th>31</th>\n",
       "      <td>HeartRate_30_ar1_coef</td>\n",
       "      <td>0.026996</td>\n",
       "    </tr>\n",
       "    <tr>\n",
       "      <th>24</th>\n",
       "      <td>ActiveEnergyBurned_30_min</td>\n",
       "      <td>0.025230</td>\n",
       "    </tr>\n",
       "    <tr>\n",
       "      <th>16</th>\n",
       "      <td>ActiveEnergyBurned_15_ar1_coef</td>\n",
       "      <td>0.022478</td>\n",
       "    </tr>\n",
       "    <tr>\n",
       "      <th>11</th>\n",
       "      <td>AppleStandTime_15_mean</td>\n",
       "      <td>0.021549</td>\n",
       "    </tr>\n",
       "    <tr>\n",
       "      <th>18</th>\n",
       "      <td>HeartRate_30_max</td>\n",
       "      <td>0.021356</td>\n",
       "    </tr>\n",
       "    <tr>\n",
       "      <th>32</th>\n",
       "      <td>ActiveEnergyBurned_30_ar1_coef</td>\n",
       "      <td>0.018163</td>\n",
       "    </tr>\n",
       "    <tr>\n",
       "      <th>5</th>\n",
       "      <td>HeartRate_15_range</td>\n",
       "      <td>0.017975</td>\n",
       "    </tr>\n",
       "    <tr>\n",
       "      <th>25</th>\n",
       "      <td>ActiveEnergyBurned_30_std</td>\n",
       "      <td>0.017077</td>\n",
       "    </tr>\n",
       "    <tr>\n",
       "      <th>21</th>\n",
       "      <td>HeartRate_30_range</td>\n",
       "      <td>0.013447</td>\n",
       "    </tr>\n",
       "    <tr>\n",
       "      <th>10</th>\n",
       "      <td>ActiveEnergyBurned_15_range</td>\n",
       "      <td>0.012468</td>\n",
       "    </tr>\n",
       "    <tr>\n",
       "      <th>26</th>\n",
       "      <td>ActiveEnergyBurned_30_range</td>\n",
       "      <td>0.010901</td>\n",
       "    </tr>\n",
       "    <tr>\n",
       "      <th>9</th>\n",
       "      <td>ActiveEnergyBurned_15_std</td>\n",
       "      <td>0.003487</td>\n",
       "    </tr>\n",
       "    <tr>\n",
       "      <th>35</th>\n",
       "      <td>height</td>\n",
       "      <td>0.003253</td>\n",
       "    </tr>\n",
       "    <tr>\n",
       "      <th>33</th>\n",
       "      <td>age</td>\n",
       "      <td>0.001860</td>\n",
       "    </tr>\n",
       "    <tr>\n",
       "      <th>14</th>\n",
       "      <td>AppleStandTime_15_range</td>\n",
       "      <td>0.000000</td>\n",
       "    </tr>\n",
       "    <tr>\n",
       "      <th>34</th>\n",
       "      <td>gender</td>\n",
       "      <td>0.000000</td>\n",
       "    </tr>\n",
       "    <tr>\n",
       "      <th>28</th>\n",
       "      <td>AppleStandTime_30_max</td>\n",
       "      <td>0.000000</td>\n",
       "    </tr>\n",
       "    <tr>\n",
       "      <th>29</th>\n",
       "      <td>AppleStandTime_30_min</td>\n",
       "      <td>0.000000</td>\n",
       "    </tr>\n",
       "    <tr>\n",
       "      <th>27</th>\n",
       "      <td>AppleStandTime_30_mean</td>\n",
       "      <td>0.000000</td>\n",
       "    </tr>\n",
       "    <tr>\n",
       "      <th>12</th>\n",
       "      <td>AppleStandTime_15_max</td>\n",
       "      <td>0.000000</td>\n",
       "    </tr>\n",
       "    <tr>\n",
       "      <th>13</th>\n",
       "      <td>AppleStandTime_15_min</td>\n",
       "      <td>0.000000</td>\n",
       "    </tr>\n",
       "    <tr>\n",
       "      <th>36</th>\n",
       "      <td>weight</td>\n",
       "      <td>0.000000</td>\n",
       "    </tr>\n",
       "  </tbody>\n",
       "</table>\n",
       "</div>"
      ],
      "text/plain": [
       "                           feature  importance\n",
       "8        ActiveEnergyBurned_15_min    0.132073\n",
       "20                HeartRate_30_std    0.099675\n",
       "17               HeartRate_30_mean    0.073433\n",
       "7        ActiveEnergyBurned_15_max    0.067340\n",
       "4                 HeartRate_15_std    0.048264\n",
       "6       ActiveEnergyBurned_15_mean    0.048170\n",
       "1                HeartRate_15_mean    0.047298\n",
       "23       ActiveEnergyBurned_30_max    0.043354\n",
       "19                HeartRate_30_min    0.037691\n",
       "0                             hour    0.033766\n",
       "3                 HeartRate_15_min    0.032144\n",
       "30         AppleStandTime_30_range    0.031542\n",
       "2                 HeartRate_15_max    0.030728\n",
       "15           HeartRate_15_ar1_coef    0.029899\n",
       "22      ActiveEnergyBurned_30_mean    0.028382\n",
       "31           HeartRate_30_ar1_coef    0.026996\n",
       "24       ActiveEnergyBurned_30_min    0.025230\n",
       "16  ActiveEnergyBurned_15_ar1_coef    0.022478\n",
       "11          AppleStandTime_15_mean    0.021549\n",
       "18                HeartRate_30_max    0.021356\n",
       "32  ActiveEnergyBurned_30_ar1_coef    0.018163\n",
       "5               HeartRate_15_range    0.017975\n",
       "25       ActiveEnergyBurned_30_std    0.017077\n",
       "21              HeartRate_30_range    0.013447\n",
       "10     ActiveEnergyBurned_15_range    0.012468\n",
       "26     ActiveEnergyBurned_30_range    0.010901\n",
       "9        ActiveEnergyBurned_15_std    0.003487\n",
       "35                          height    0.003253\n",
       "33                             age    0.001860\n",
       "14         AppleStandTime_15_range    0.000000\n",
       "34                          gender    0.000000\n",
       "28           AppleStandTime_30_max    0.000000\n",
       "29           AppleStandTime_30_min    0.000000\n",
       "27          AppleStandTime_30_mean    0.000000\n",
       "12           AppleStandTime_15_max    0.000000\n",
       "13           AppleStandTime_15_min    0.000000\n",
       "36                          weight    0.000000"
      ]
     },
     "execution_count": 37,
     "metadata": {},
     "output_type": "execute_result"
    }
   ],
   "source": [
    "pd.DataFrame({\"feature\": best.feature_names_in_, \"importance\": best.feature_importances_}).sort_values(by=\"importance\", ascending=False)"
   ]
  },
  {
   "cell_type": "markdown",
   "metadata": {},
   "source": [
    "General Results are plagued by poor recall:"
   ]
  },
  {
   "cell_type": "code",
   "execution_count": 38,
   "metadata": {},
   "outputs": [
    {
     "data": {
      "text/plain": [
       "<AxesSubplot:>"
      ]
     },
     "execution_count": 38,
     "metadata": {},
     "output_type": "execute_result"
    },
    {
     "data": {
      "image/png": "[encoded data removed]",
      "text/plain": [
       "<Figure size 640x480 with 2 Axes>"
      ]
     },
     "metadata": {},
     "output_type": "display_data"
    }
   ],
   "source": [
    "from seaborn import heatmap as sns_heatmap\n",
    "from sklearn.metrics import confusion_matrix, classification_report, roc_auc_score\n",
    "\n",
    "sns_heatmap(confusion_matrix(y, preds), annot=True, fmt=\"d\", cmap=\"Blues\")"
   ]
  },
  {
   "cell_type": "code",
   "execution_count": 39,
   "metadata": {},
   "outputs": [
    {
     "name": "stdout",
     "output_type": "stream",
     "text": [
      "0.6464342001576044\n",
      "              precision    recall  f1-score   support\n",
      "\n",
      "           0       0.84      0.34      0.48       135\n",
      "           1       0.67      0.95      0.79       188\n",
      "\n",
      "    accuracy                           0.70       323\n",
      "   macro avg       0.75      0.65      0.63       323\n",
      "weighted avg       0.74      0.70      0.66       323\n",
      "\n"
     ]
    }
   ],
   "source": [
    "print(roc_auc_score(y, preds))\n",
    "print(classification_report(y, preds))"
   ]
  },
  {
   "cell_type": "code",
   "execution_count": 40,
   "metadata": {},
   "outputs": [
    {
     "name": "stdout",
     "output_type": "stream",
     "text": [
      "0.5967534849596479\n",
      "              precision    recall  f1-score   support\n",
      "\n",
      "           0       0.44      0.24      0.31        29\n",
      "           1       0.89      0.95      0.92       188\n",
      "\n",
      "    accuracy                           0.86       217\n",
      "   macro avg       0.66      0.60      0.62       217\n",
      "weighted avg       0.83      0.86      0.84       217\n",
      "\n"
     ]
    }
   ],
   "source": [
    "# conditional on sitting\n",
    "sitting_mask = data_md[data_md[\"state_string\"] == \"Sitting\"].index\n",
    "print(roc_auc_score(y[sitting_mask], preds[sitting_mask]))\n",
    "print(classification_report(y[sitting_mask], preds[sitting_mask]))"
   ]
  },
  {
   "cell_type": "code",
   "execution_count": 57,
   "metadata": {},
   "outputs": [
    {
     "data": {
      "text/plain": [
       "<AxesSubplot:>"
      ]
     },
     "execution_count": 57,
     "metadata": {},
     "output_type": "execute_result"
    },
    {
     "data": {
      "image/png": "[encoded data removed]",
      "text/plain": [
       "<Figure size 640x480 with 2 Axes>"
      ]
     },
     "metadata": {},
     "output_type": "display_data"
    }
   ],
   "source": [
    "sns_heatmap(confusion_matrix(y[sitting_mask], preds[sitting_mask]), annot=True, fmt=\"d\", cmap=\"Blues\")"
   ]
  },
  {
   "cell_type": "code",
   "execution_count": 75,
   "metadata": {},
   "outputs": [
    {
     "name": "stdout",
     "output_type": "stream",
     "text": [
      "              precision    recall  f1-score   support\n",
      "\n",
      "           0       1.00      0.42      0.59       106\n",
      "           1       0.00      0.00      0.00         0\n",
      "\n",
      "    accuracy                           0.42       106\n",
      "   macro avg       0.50      0.21      0.29       106\n",
      "weighted avg       1.00      0.42      0.59       106\n",
      "\n"
     ]
    },
    {
     "name": "stderr",
     "output_type": "stream",
     "text": [
      "/Users/lasse/miniconda3/envs/upstraight/lib/python3.10/site-packages/sklearn/metrics/_classification.py:1334: UndefinedMetricWarning: Recall and F-score are ill-defined and being set to 0.0 in labels with no true samples. Use `zero_division` parameter to control this behavior.\n",
      "  _warn_prf(average, modifier, msg_start, len(result))\n",
      "/Users/lasse/miniconda3/envs/upstraight/lib/python3.10/site-packages/sklearn/metrics/_classification.py:1334: UndefinedMetricWarning: Recall and F-score are ill-defined and being set to 0.0 in labels with no true samples. Use `zero_division` parameter to control this behavior.\n",
      "  _warn_prf(average, modifier, msg_start, len(result))\n",
      "/Users/lasse/miniconda3/envs/upstraight/lib/python3.10/site-packages/sklearn/metrics/_classification.py:1334: UndefinedMetricWarning: Recall and F-score are ill-defined and being set to 0.0 in labels with no true samples. Use `zero_division` parameter to control this behavior.\n",
      "  _warn_prf(average, modifier, msg_start, len(result))\n"
     ]
    }
   ],
   "source": [
    "# conditional on NOT sitting\n",
    "not_sitting_mask = data_md[data_md[\"state_string\"] != \"Sitting\"].index\n",
    "# roc auc not defined if empty class...\n",
    "print(classification_report(y[not_sitting_mask], preds[not_sitting_mask]))"
   ]
  },
  {
   "cell_type": "code",
   "execution_count": 61,
   "metadata": {},
   "outputs": [
    {
     "data": {
      "text/plain": [
       "<AxesSubplot:>"
      ]
     },
     "execution_count": 61,
     "metadata": {},
     "output_type": "execute_result"
    },
    {
     "data": {
      "image/png": "[encoded data removed]",
      "text/plain": [
       "<Figure size 640x480 with 2 Axes>"
      ]
     },
     "metadata": {},
     "output_type": "display_data"
    }
   ],
   "source": [
    "sns_heatmap(confusion_matrix(y[not_sitting_mask], preds[not_sitting_mask]), annot=True, fmt=\"d\", cmap=\"Blues\")"
   ]
  },
  {
   "cell_type": "code",
   "execution_count": 76,
   "metadata": {},
   "outputs": [
    {
     "name": "stdout",
     "output_type": "stream",
     "text": [
      "0.7166666666666667\n",
      "              precision    recall  f1-score   support\n",
      "\n",
      "           0       1.00      0.43      0.60        30\n",
      "           1       0.76      1.00      0.86        54\n",
      "\n",
      "    accuracy                           0.80        84\n",
      "   macro avg       0.88      0.72      0.73        84\n",
      "weighted avg       0.85      0.80      0.77        84\n",
      "\n"
     ]
    }
   ],
   "source": [
    "# conditional on source being \"lass\"\n",
    "lass_mask = data_md[data_md[\"source\"] == \"lass\"].index\n",
    "print(roc_auc_score(y[lass_mask], preds[lass_mask]))\n",
    "print(classification_report(y[lass_mask], preds[lass_mask]))"
   ]
  },
  {
   "cell_type": "code",
   "execution_count": 64,
   "metadata": {},
   "outputs": [
    {
     "data": {
      "text/plain": [
       "<AxesSubplot:>"
      ]
     },
     "execution_count": 64,
     "metadata": {},
     "output_type": "execute_result"
    },
    {
     "data": {
      "image/png": "[encoded data removed]",
      "text/plain": [
       "<Figure size 640x480 with 2 Axes>"
      ]
     },
     "metadata": {},
     "output_type": "display_data"
    }
   ],
   "source": [
    "sns_heatmap(confusion_matrix(y[lass_mask], preds[lass_mask]), annot=True, fmt=\"d\", cmap=\"Blues\")"
   ]
  },
  {
   "cell_type": "code",
   "execution_count": 77,
   "metadata": {},
   "outputs": [
    {
     "name": "stdout",
     "output_type": "stream",
     "text": [
      "0.625\n",
      "              precision    recall  f1-score   support\n",
      "\n",
      "           0       1.00      0.25      0.40         4\n",
      "           1       0.95      1.00      0.97        54\n",
      "\n",
      "    accuracy                           0.95        58\n",
      "   macro avg       0.97      0.62      0.69        58\n",
      "weighted avg       0.95      0.95      0.93        58\n",
      "\n"
     ]
    }
   ],
   "source": [
    "# conditional on being \"lass\" and sitting\n",
    "lass_sitting_mask = data_md[(data_md[\"source\"] == \"lass\") & (data_md[\"state_string\"] == \"Sitting\")].index\n",
    "print(roc_auc_score(y[lass_sitting_mask], preds[lass_sitting_mask]))\n",
    "print(classification_report(y[lass_sitting_mask], preds[lass_sitting_mask]))"
   ]
  },
  {
   "cell_type": "code",
   "execution_count": 66,
   "metadata": {},
   "outputs": [
    {
     "data": {
      "text/plain": [
       "<AxesSubplot:>"
      ]
     },
     "execution_count": 66,
     "metadata": {},
     "output_type": "execute_result"
    },
    {
     "data": {
      "image/png": "[encoded data removed]",
      "text/plain": [
       "<Figure size 640x480 with 2 Axes>"
      ]
     },
     "metadata": {},
     "output_type": "display_data"
    }
   ],
   "source": [
    "sns_heatmap(confusion_matrix(y[lass_sitting_mask], preds[lass_sitting_mask]), annot=True, fmt=\"d\", cmap=\"Blues\")"
   ]
  },
  {
   "cell_type": "code",
   "execution_count": 78,
   "metadata": {},
   "outputs": [
    {
     "name": "stdout",
     "output_type": "stream",
     "text": [
      "0.6590909090909092\n",
      "              precision    recall  f1-score   support\n",
      "\n",
      "           0       1.00      0.32      0.48        44\n",
      "           1       0.62      1.00      0.77        49\n",
      "\n",
      "    accuracy                           0.68        93\n",
      "   macro avg       0.81      0.66      0.62        93\n",
      "weighted avg       0.80      0.68      0.63        93\n",
      "\n"
     ]
    }
   ],
   "source": [
    "# for cr only\n",
    "cr_mask = data_md[data_md[\"source\"] == \"cr\"].index\n",
    "print(roc_auc_score(y[cr_mask], preds[cr_mask]))\n",
    "print(classification_report(y[cr_mask], preds[cr_mask]))"
   ]
  },
  {
   "cell_type": "code",
   "execution_count": 79,
   "metadata": {},
   "outputs": [
    {
     "data": {
      "text/plain": [
       "<AxesSubplot:>"
      ]
     },
     "execution_count": 79,
     "metadata": {},
     "output_type": "execute_result"
    },
    {
     "data": {
      "image/png": "[encoded data removed]",
      "text/plain": [
       "<Figure size 640x480 with 2 Axes>"
      ]
     },
     "metadata": {},
     "output_type": "display_data"
    }
   ],
   "source": [
    "sns_heatmap(confusion_matrix(y[cr_mask], preds[cr_mask]), annot=True, fmt=\"d\", cmap=\"Blues\")"
   ]
  },
  {
   "cell_type": "markdown",
   "metadata": {},
   "source": [
    "The general model performs worse than the model trained with individual weights (not surprising).\n",
    "In the data there is an imbalance towards slouched data points, so the model tends to overclassify as slouched. Interestingly, many non-sitting data points are classified as slouched, which in our DGP is impossible. When conditioning on sitting, performance goes up, surprisingly, since we get rid of all these missclassifications and end up with a high precision, low recall scenario which due to the high imbalance puts accuracy still at 90%."
   ]
  },
  {
   "cell_type": "markdown",
   "metadata": {},
   "source": [
    "### Train a Neural Net on Raw Data"
   ]
  },
  {
   "cell_type": "code",
   "execution_count": 60,
   "metadata": {},
   "outputs": [
    {
     "name": "stdout",
     "output_type": "stream",
     "text": [
      "2.11.0\n"
     ]
    }
   ],
   "source": [
    "import tensorflow as tf\n",
    "\n",
    "print(tf.__version__)"
   ]
  },
  {
   "cell_type": "code",
   "execution_count": 61,
   "metadata": {},
   "outputs": [
    {
     "data": {
      "text/html": [
       "<div>\n",
       "<style scoped>\n",
       "    .dataframe tbody tr th:only-of-type {\n",
       "        vertical-align: middle;\n",
       "    }\n",
       "\n",
       "    .dataframe tbody tr th {\n",
       "        vertical-align: top;\n",
       "    }\n",
       "\n",
       "    .dataframe thead th {\n",
       "        text-align: right;\n",
       "    }\n",
       "</style>\n",
       "<table border=\"1\" class=\"dataframe\">\n",
       "  <thead>\n",
       "    <tr style=\"text-align: right;\">\n",
       "      <th></th>\n",
       "      <th>hour</th>\n",
       "      <th>HeartRate_15_mean</th>\n",
       "      <th>HeartRate_15_max</th>\n",
       "      <th>HeartRate_15_min</th>\n",
       "      <th>HeartRate_15_std</th>\n",
       "      <th>HeartRate_15_range</th>\n",
       "      <th>ActiveEnergyBurned_15_mean</th>\n",
       "      <th>ActiveEnergyBurned_15_max</th>\n",
       "      <th>ActiveEnergyBurned_15_min</th>\n",
       "      <th>ActiveEnergyBurned_15_std</th>\n",
       "      <th>...</th>\n",
       "      <th>AppleStandTime_30_min</th>\n",
       "      <th>AppleStandTime_30_range</th>\n",
       "      <th>HeartRate_30_ar1_coef</th>\n",
       "      <th>ActiveEnergyBurned_30_ar1_coef</th>\n",
       "      <th>age</th>\n",
       "      <th>gender</th>\n",
       "      <th>height</th>\n",
       "      <th>weight</th>\n",
       "      <th>activity</th>\n",
       "      <th>posture</th>\n",
       "    </tr>\n",
       "  </thead>\n",
       "  <tbody>\n",
       "    <tr>\n",
       "      <th>0</th>\n",
       "      <td>19</td>\n",
       "      <td>84.000000</td>\n",
       "      <td>89.0</td>\n",
       "      <td>79.0000</td>\n",
       "      <td>5.000000</td>\n",
       "      <td>10.0000</td>\n",
       "      <td>0.214231</td>\n",
       "      <td>0.366</td>\n",
       "      <td>0.017</td>\n",
       "      <td>0.113776</td>\n",
       "      <td>...</td>\n",
       "      <td>0.0</td>\n",
       "      <td>1.0</td>\n",
       "      <td>0.579167</td>\n",
       "      <td>0.195443</td>\n",
       "      <td>24.0</td>\n",
       "      <td>0</td>\n",
       "      <td>181</td>\n",
       "      <td>71</td>\n",
       "      <td>1</td>\n",
       "      <td>0</td>\n",
       "    </tr>\n",
       "    <tr>\n",
       "      <th>1</th>\n",
       "      <td>17</td>\n",
       "      <td>82.333333</td>\n",
       "      <td>84.0</td>\n",
       "      <td>80.0000</td>\n",
       "      <td>2.081666</td>\n",
       "      <td>4.0000</td>\n",
       "      <td>0.280286</td>\n",
       "      <td>0.421</td>\n",
       "      <td>0.061</td>\n",
       "      <td>0.100903</td>\n",
       "      <td>...</td>\n",
       "      <td>0.0</td>\n",
       "      <td>0.0</td>\n",
       "      <td>1.142857</td>\n",
       "      <td>0.442224</td>\n",
       "      <td>24.0</td>\n",
       "      <td>0</td>\n",
       "      <td>181</td>\n",
       "      <td>71</td>\n",
       "      <td>1</td>\n",
       "      <td>1</td>\n",
       "    </tr>\n",
       "    <tr>\n",
       "      <th>2</th>\n",
       "      <td>16</td>\n",
       "      <td>79.500000</td>\n",
       "      <td>88.0</td>\n",
       "      <td>75.0000</td>\n",
       "      <td>6.137318</td>\n",
       "      <td>13.0000</td>\n",
       "      <td>0.440538</td>\n",
       "      <td>1.457</td>\n",
       "      <td>0.014</td>\n",
       "      <td>0.452358</td>\n",
       "      <td>...</td>\n",
       "      <td>0.0</td>\n",
       "      <td>3.0</td>\n",
       "      <td>0.347584</td>\n",
       "      <td>0.456471</td>\n",
       "      <td>24.0</td>\n",
       "      <td>0</td>\n",
       "      <td>181</td>\n",
       "      <td>71</td>\n",
       "      <td>1</td>\n",
       "      <td>0</td>\n",
       "    </tr>\n",
       "    <tr>\n",
       "      <th>3</th>\n",
       "      <td>15</td>\n",
       "      <td>77.000000</td>\n",
       "      <td>78.0</td>\n",
       "      <td>76.0000</td>\n",
       "      <td>1.000000</td>\n",
       "      <td>2.0000</td>\n",
       "      <td>0.227385</td>\n",
       "      <td>0.366</td>\n",
       "      <td>0.029</td>\n",
       "      <td>0.119166</td>\n",
       "      <td>...</td>\n",
       "      <td>0.0</td>\n",
       "      <td>0.0</td>\n",
       "      <td>-0.181818</td>\n",
       "      <td>0.136979</td>\n",
       "      <td>24.0</td>\n",
       "      <td>0</td>\n",
       "      <td>181</td>\n",
       "      <td>71</td>\n",
       "      <td>1</td>\n",
       "      <td>1</td>\n",
       "    </tr>\n",
       "    <tr>\n",
       "      <th>4</th>\n",
       "      <td>15</td>\n",
       "      <td>74.000000</td>\n",
       "      <td>76.0</td>\n",
       "      <td>72.0000</td>\n",
       "      <td>2.828427</td>\n",
       "      <td>4.0000</td>\n",
       "      <td>0.193692</td>\n",
       "      <td>0.403</td>\n",
       "      <td>0.017</td>\n",
       "      <td>0.128122</td>\n",
       "      <td>...</td>\n",
       "      <td>0.0</td>\n",
       "      <td>0.0</td>\n",
       "      <td>-0.774566</td>\n",
       "      <td>0.193813</td>\n",
       "      <td>24.0</td>\n",
       "      <td>0</td>\n",
       "      <td>181</td>\n",
       "      <td>71</td>\n",
       "      <td>1</td>\n",
       "      <td>0</td>\n",
       "    </tr>\n",
       "    <tr>\n",
       "      <th>...</th>\n",
       "      <td>...</td>\n",
       "      <td>...</td>\n",
       "      <td>...</td>\n",
       "      <td>...</td>\n",
       "      <td>...</td>\n",
       "      <td>...</td>\n",
       "      <td>...</td>\n",
       "      <td>...</td>\n",
       "      <td>...</td>\n",
       "      <td>...</td>\n",
       "      <td>...</td>\n",
       "      <td>...</td>\n",
       "      <td>...</td>\n",
       "      <td>...</td>\n",
       "      <td>...</td>\n",
       "      <td>...</td>\n",
       "      <td>...</td>\n",
       "      <td>...</td>\n",
       "      <td>...</td>\n",
       "      <td>...</td>\n",
       "      <td>...</td>\n",
       "    </tr>\n",
       "    <tr>\n",
       "      <th>318</th>\n",
       "      <td>12</td>\n",
       "      <td>56.000000</td>\n",
       "      <td>57.0</td>\n",
       "      <td>55.0000</td>\n",
       "      <td>1.000000</td>\n",
       "      <td>2.0000</td>\n",
       "      <td>0.361154</td>\n",
       "      <td>0.905</td>\n",
       "      <td>0.062</td>\n",
       "      <td>0.220816</td>\n",
       "      <td>...</td>\n",
       "      <td>0.0</td>\n",
       "      <td>0.0</td>\n",
       "      <td>1.045455</td>\n",
       "      <td>0.078609</td>\n",
       "      <td>58.0</td>\n",
       "      <td>0</td>\n",
       "      <td>186</td>\n",
       "      <td>76</td>\n",
       "      <td>1</td>\n",
       "      <td>0</td>\n",
       "    </tr>\n",
       "    <tr>\n",
       "      <th>319</th>\n",
       "      <td>11</td>\n",
       "      <td>53.333333</td>\n",
       "      <td>54.0</td>\n",
       "      <td>52.0000</td>\n",
       "      <td>1.154701</td>\n",
       "      <td>2.0000</td>\n",
       "      <td>0.263636</td>\n",
       "      <td>0.448</td>\n",
       "      <td>0.084</td>\n",
       "      <td>0.122292</td>\n",
       "      <td>...</td>\n",
       "      <td>0.0</td>\n",
       "      <td>1.0</td>\n",
       "      <td>-0.617647</td>\n",
       "      <td>0.228424</td>\n",
       "      <td>58.0</td>\n",
       "      <td>0</td>\n",
       "      <td>186</td>\n",
       "      <td>76</td>\n",
       "      <td>1</td>\n",
       "      <td>0</td>\n",
       "    </tr>\n",
       "    <tr>\n",
       "      <th>320</th>\n",
       "      <td>11</td>\n",
       "      <td>54.250000</td>\n",
       "      <td>57.0</td>\n",
       "      <td>52.0000</td>\n",
       "      <td>2.217356</td>\n",
       "      <td>5.0000</td>\n",
       "      <td>0.387000</td>\n",
       "      <td>0.818</td>\n",
       "      <td>0.109</td>\n",
       "      <td>0.206108</td>\n",
       "      <td>...</td>\n",
       "      <td>0.0</td>\n",
       "      <td>1.0</td>\n",
       "      <td>-0.007876</td>\n",
       "      <td>0.675327</td>\n",
       "      <td>58.0</td>\n",
       "      <td>0</td>\n",
       "      <td>186</td>\n",
       "      <td>76</td>\n",
       "      <td>1</td>\n",
       "      <td>1</td>\n",
       "    </tr>\n",
       "    <tr>\n",
       "      <th>321</th>\n",
       "      <td>9</td>\n",
       "      <td>62.367150</td>\n",
       "      <td>65.0</td>\n",
       "      <td>60.4686</td>\n",
       "      <td>2.066074</td>\n",
       "      <td>4.5314</td>\n",
       "      <td>0.259786</td>\n",
       "      <td>0.564</td>\n",
       "      <td>0.047</td>\n",
       "      <td>0.144392</td>\n",
       "      <td>...</td>\n",
       "      <td>0.0</td>\n",
       "      <td>2.0</td>\n",
       "      <td>1.557110</td>\n",
       "      <td>0.445845</td>\n",
       "      <td>58.0</td>\n",
       "      <td>0</td>\n",
       "      <td>186</td>\n",
       "      <td>76</td>\n",
       "      <td>1</td>\n",
       "      <td>0</td>\n",
       "    </tr>\n",
       "    <tr>\n",
       "      <th>322</th>\n",
       "      <td>9</td>\n",
       "      <td>66.333333</td>\n",
       "      <td>74.0</td>\n",
       "      <td>62.0000</td>\n",
       "      <td>6.658328</td>\n",
       "      <td>12.0000</td>\n",
       "      <td>0.937769</td>\n",
       "      <td>3.699</td>\n",
       "      <td>0.213</td>\n",
       "      <td>0.925279</td>\n",
       "      <td>...</td>\n",
       "      <td>0.0</td>\n",
       "      <td>3.0</td>\n",
       "      <td>0.766174</td>\n",
       "      <td>0.223178</td>\n",
       "      <td>58.0</td>\n",
       "      <td>0</td>\n",
       "      <td>186</td>\n",
       "      <td>76</td>\n",
       "      <td>1</td>\n",
       "      <td>1</td>\n",
       "    </tr>\n",
       "  </tbody>\n",
       "</table>\n",
       "<p>323 rows × 39 columns</p>\n",
       "</div>"
      ],
      "text/plain": [
       "     hour  HeartRate_15_mean  HeartRate_15_max  HeartRate_15_min  \\\n",
       "0      19          84.000000              89.0           79.0000   \n",
       "1      17          82.333333              84.0           80.0000   \n",
       "2      16          79.500000              88.0           75.0000   \n",
       "3      15          77.000000              78.0           76.0000   \n",
       "4      15          74.000000              76.0           72.0000   \n",
       "..    ...                ...               ...               ...   \n",
       "318    12          56.000000              57.0           55.0000   \n",
       "319    11          53.333333              54.0           52.0000   \n",
       "320    11          54.250000              57.0           52.0000   \n",
       "321     9          62.367150              65.0           60.4686   \n",
       "322     9          66.333333              74.0           62.0000   \n",
       "\n",
       "     HeartRate_15_std  HeartRate_15_range  ActiveEnergyBurned_15_mean  \\\n",
       "0            5.000000             10.0000                    0.214231   \n",
       "1            2.081666              4.0000                    0.280286   \n",
       "2            6.137318             13.0000                    0.440538   \n",
       "3            1.000000              2.0000                    0.227385   \n",
       "4            2.828427              4.0000                    0.193692   \n",
       "..                ...                 ...                         ...   \n",
       "318          1.000000              2.0000                    0.361154   \n",
       "319          1.154701              2.0000                    0.263636   \n",
       "320          2.217356              5.0000                    0.387000   \n",
       "321          2.066074              4.5314                    0.259786   \n",
       "322          6.658328             12.0000                    0.937769   \n",
       "\n",
       "     ActiveEnergyBurned_15_max  ActiveEnergyBurned_15_min  \\\n",
       "0                        0.366                      0.017   \n",
       "1                        0.421                      0.061   \n",
       "2                        1.457                      0.014   \n",
       "3                        0.366                      0.029   \n",
       "4                        0.403                      0.017   \n",
       "..                         ...                        ...   \n",
       "318                      0.905                      0.062   \n",
       "319                      0.448                      0.084   \n",
       "320                      0.818                      0.109   \n",
       "321                      0.564                      0.047   \n",
       "322                      3.699                      0.213   \n",
       "\n",
       "     ActiveEnergyBurned_15_std  ...  AppleStandTime_30_min  \\\n",
       "0                     0.113776  ...                    0.0   \n",
       "1                     0.100903  ...                    0.0   \n",
       "2                     0.452358  ...                    0.0   \n",
       "3                     0.119166  ...                    0.0   \n",
       "4                     0.128122  ...                    0.0   \n",
       "..                         ...  ...                    ...   \n",
       "318                   0.220816  ...                    0.0   \n",
       "319                   0.122292  ...                    0.0   \n",
       "320                   0.206108  ...                    0.0   \n",
       "321                   0.144392  ...                    0.0   \n",
       "322                   0.925279  ...                    0.0   \n",
       "\n",
       "     AppleStandTime_30_range  HeartRate_30_ar1_coef  \\\n",
       "0                        1.0               0.579167   \n",
       "1                        0.0               1.142857   \n",
       "2                        3.0               0.347584   \n",
       "3                        0.0              -0.181818   \n",
       "4                        0.0              -0.774566   \n",
       "..                       ...                    ...   \n",
       "318                      0.0               1.045455   \n",
       "319                      1.0              -0.617647   \n",
       "320                      1.0              -0.007876   \n",
       "321                      2.0               1.557110   \n",
       "322                      3.0               0.766174   \n",
       "\n",
       "     ActiveEnergyBurned_30_ar1_coef   age  gender  height  weight  activity  \\\n",
       "0                          0.195443  24.0       0     181      71         1   \n",
       "1                          0.442224  24.0       0     181      71         1   \n",
       "2                          0.456471  24.0       0     181      71         1   \n",
       "3                          0.136979  24.0       0     181      71         1   \n",
       "4                          0.193813  24.0       0     181      71         1   \n",
       "..                              ...   ...     ...     ...     ...       ...   \n",
       "318                        0.078609  58.0       0     186      76         1   \n",
       "319                        0.228424  58.0       0     186      76         1   \n",
       "320                        0.675327  58.0       0     186      76         1   \n",
       "321                        0.445845  58.0       0     186      76         1   \n",
       "322                        0.223178  58.0       0     186      76         1   \n",
       "\n",
       "     posture  \n",
       "0          0  \n",
       "1          1  \n",
       "2          0  \n",
       "3          1  \n",
       "4          0  \n",
       "..       ...  \n",
       "318        0  \n",
       "319        0  \n",
       "320        1  \n",
       "321        0  \n",
       "322        1  \n",
       "\n",
       "[323 rows x 39 columns]"
      ]
     },
     "execution_count": 61,
     "metadata": {},
     "output_type": "execute_result"
    }
   ],
   "source": [
    "nn_data = data_md[training_columns + [\"age\",\"gender\",\"height\",\"weight\", \"activity\", \"posture\"]] # keep posture in here \n",
    "nn_data"
   ]
  },
  {
   "cell_type": "code",
   "execution_count": 62,
   "metadata": {},
   "outputs": [],
   "source": [
    "# create validation set (random 20% of data) using numpy\n",
    "import numpy as np\n",
    "msk = (np.random.rand(len(nn_data)) < 0.8)\n",
    "nn_train = nn_data[msk]\n",
    "nn_val = nn_data[~msk]"
   ]
  },
  {
   "cell_type": "code",
   "execution_count": 63,
   "metadata": {},
   "outputs": [
    {
     "name": "stdout",
     "output_type": "stream",
     "text": [
      "{'height': <tf.Tensor: shape=(5, 1), dtype=int64, numpy=\n",
      "array([[181],\n",
      "       [181],\n",
      "       [181],\n",
      "       [181],\n",
      "       [181]])>, 'weight': <tf.Tensor: shape=(5, 1), dtype=int64, numpy=\n",
      "array([[71],\n",
      "       [71],\n",
      "       [71],\n",
      "       [71],\n",
      "       [71]])>, 'activity': <tf.Tensor: shape=(5, 1), dtype=string, numpy=\n",
      "array([[b'1'],\n",
      "       [b'1'],\n",
      "       [b'1'],\n",
      "       [b'1'],\n",
      "       [b'1']], dtype=object)>, 'posture': <tf.Tensor: shape=(5, 1), dtype=int64, numpy=\n",
      "array([[0],\n",
      "       [1],\n",
      "       [0],\n",
      "       [1],\n",
      "       [0]])>}\n"
     ]
    },
    {
     "name": "stderr",
     "output_type": "stream",
     "text": [
      "/var/folders/yx/_8fch6cj6w5cfvy2xlfjrsyw0000gn/T/ipykernel_6686/109507841.py:7: FutureWarning: Support for multi-dimensional indexing (e.g. `obj[:, None]`) is deprecated and will be removed in a future version.  Convert to a numpy array before indexing instead.\n",
      "  df = {key: value[:, tf.newaxis] for key,value in dataframe.items()}\n"
     ]
    }
   ],
   "source": [
    "from tensorflow.keras import layers\n",
    "\n",
    "# function that builds tf dataset from dataframe\n",
    "def df_to_dataset(dataframe, batch_size=32):\n",
    "    df = dataframe.copy()\n",
    "    labels = df.pop('posture')\n",
    "    df = {key: value[:, tf.newaxis] for key,value in dataframe.items()}\n",
    "    ds = tf.data.Dataset.from_tensor_slices((dict(df), labels))\n",
    "    ds = ds.batch(batch_size)\n",
    "    ds = ds.prefetch(batch_size)\n",
    "    return ds\n",
    "\n",
    "batch_size = 5\n",
    "train_ds = df_to_dataset(nn_train.iloc[:,-4:], batch_size=batch_size)\n",
    "[(train_features, label_batch)] = train_ds.take(1)\n",
    "print(train_features)"
   ]
  },
  {
   "cell_type": "code",
   "execution_count": 64,
   "metadata": {},
   "outputs": [
    {
     "name": "stdout",
     "output_type": "stream",
     "text": [
      "WARNING:tensorflow:From /Users/lasse/miniconda3/envs/upstraight/lib/python3.10/site-packages/tensorflow/python/autograph/pyct/static_analysis/liveness.py:83: Analyzer.lamba_check (from tensorflow.python.autograph.pyct.static_analysis.liveness) is deprecated and will be removed after 2023-09-23.\n",
      "Instructions for updating:\n",
      "Lambda fuctions will be no more assumed to be used in the statement where they are used, or at least in the same block. https://github.com/tensorflow/tensorflow/issues/56089\n"
     ]
    },
    {
     "name": "stderr",
     "output_type": "stream",
     "text": [
      "2023-09-27 12:03:38.359798: W tensorflow/tsl/platform/profile_utils/cpu_utils.cc:128] Failed to get CPU frequency: 0 Hz\n"
     ]
    },
    {
     "data": {
      "text/plain": [
       "<tf.Tensor: shape=(5, 3), dtype=float32, numpy=\n",
       "array([[0., 0., 1.],\n",
       "       [0., 0., 1.],\n",
       "       [0., 0., 1.],\n",
       "       [0., 0., 1.],\n",
       "       [0., 0., 1.]], dtype=float32)>"
      ]
     },
     "execution_count": 64,
     "metadata": {},
     "output_type": "execute_result"
    }
   ],
   "source": [
    "# function that adds a CategoryEncoding layer for \"activity\"\n",
    "def get_category_encoding_layer(name, dataset, dtype):\n",
    "    if dtype == 'string':\n",
    "        index = layers.StringLookup()\n",
    "    # Otherwise, create a layer that turns integer values into integer indices.\n",
    "    else:\n",
    "        index = layers.IntegerLookup()\n",
    "\n",
    "    features_ds = dataset.map(lambda x, y: x[name])\n",
    "    index.adapt(features_ds)\n",
    "    encoder = layers.CategoryEncoding(num_tokens=index.vocabulary_size())\n",
    "    return lambda feature: encoder(index(feature))\n",
    "\n",
    "test_type_col = train_features[\"activity\"]\n",
    "test_type_layer = get_category_encoding_layer(\"activity\", train_ds, dtype = \"string\") #dtype Int\n",
    "test_type_layer(test_type_col)"
   ]
  },
  {
   "cell_type": "code",
   "execution_count": 65,
   "metadata": {},
   "outputs": [
    {
     "ename": "KeyError",
     "evalue": "'HeartRate_15_mean'",
     "output_type": "error",
     "traceback": [
      "\u001b[0;31m---------------------------------------------------------------------------\u001b[0m",
      "\u001b[0;31mKeyError\u001b[0m                                  Traceback (most recent call last)",
      "\u001b[1;32m/Users/lasse/Library/Mobile Documents/com~apple~CloudDocs/Health Data/watch_data/UpStraight_analytics/notebooks/train_unweighted_model.ipynb Cell 35\u001b[0m line \u001b[0;36m8\n\u001b[1;32m      <a href='vscode-notebook-cell:/Users/lasse/Library/Mobile%20Documents/com~apple~CloudDocs/Health%20Data/watch_data/UpStraight_analytics/notebooks/train_unweighted_model.ipynb#X52sZmlsZQ%3D%3D?line=3'>4</a>\u001b[0m     normalizer\u001b[39m.\u001b[39madapt(feature_ds)\n\u001b[1;32m      <a href='vscode-notebook-cell:/Users/lasse/Library/Mobile%20Documents/com~apple~CloudDocs/Health%20Data/watch_data/UpStraight_analytics/notebooks/train_unweighted_model.ipynb#X52sZmlsZQ%3D%3D?line=4'>5</a>\u001b[0m     \u001b[39mreturn\u001b[39;00m normalizer    \n\u001b[0;32m----> <a href='vscode-notebook-cell:/Users/lasse/Library/Mobile%20Documents/com~apple~CloudDocs/Health%20Data/watch_data/UpStraight_analytics/notebooks/train_unweighted_model.ipynb#X52sZmlsZQ%3D%3D?line=7'>8</a>\u001b[0m ht_15_mean \u001b[39m=\u001b[39m train_features[\u001b[39m\"\u001b[39;49m\u001b[39mHeartRate_15_mean\u001b[39;49m\u001b[39m\"\u001b[39;49m]\n\u001b[1;32m      <a href='vscode-notebook-cell:/Users/lasse/Library/Mobile%20Documents/com~apple~CloudDocs/Health%20Data/watch_data/UpStraight_analytics/notebooks/train_unweighted_model.ipynb#X52sZmlsZQ%3D%3D?line=8'>9</a>\u001b[0m layer \u001b[39m=\u001b[39m get_normalization_layer(\u001b[39m\"\u001b[39m\u001b[39mHeartRate_15_mean\u001b[39m\u001b[39m\"\u001b[39m, train_ds)\n\u001b[1;32m     <a href='vscode-notebook-cell:/Users/lasse/Library/Mobile%20Documents/com~apple~CloudDocs/Health%20Data/watch_data/UpStraight_analytics/notebooks/train_unweighted_model.ipynb#X52sZmlsZQ%3D%3D?line=9'>10</a>\u001b[0m layer(ht_15_mean)\n",
      "\u001b[0;31mKeyError\u001b[0m: 'HeartRate_15_mean'"
     ]
    }
   ],
   "source": [
    "def get_normalization_layer(name, dataset):\n",
    "    normalizer = layers.Normalization()\n",
    "    feature_ds = dataset.map(lambda x, y: x[name])\n",
    "    normalizer.adapt(feature_ds)\n",
    "    return normalizer    \n",
    "\n",
    "\n",
    "ht_15_mean = train_features[\"HeartRate_15_mean\"]\n",
    "layer = get_normalization_layer(\"HeartRate_15_mean\", train_ds)\n",
    "layer(ht_15_mean)"
   ]
  },
  {
   "cell_type": "code",
   "execution_count": 67,
   "metadata": {},
   "outputs": [],
   "source": [
    "# preprocess our selection of features:\n",
    "all_features = nn_train.columns.to_list()[:-1] # leave out posture\n",
    "categorical_features = all_features.pop(-1) # activity\n",
    "numerical_features = all_features"
   ]
  },
  {
   "cell_type": "code",
   "execution_count": 78,
   "metadata": {},
   "outputs": [
    {
     "name": "stderr",
     "output_type": "stream",
     "text": [
      "/var/folders/yx/_8fch6cj6w5cfvy2xlfjrsyw0000gn/T/ipykernel_82729/109507841.py:7: FutureWarning: Support for multi-dimensional indexing (e.g. `obj[:, None]`) is deprecated and will be removed in a future version.  Convert to a numpy array before indexing instead.\n",
      "  df = {key: value[:, tf.newaxis] for key,value in dataframe.items()}\n",
      "/var/folders/yx/_8fch6cj6w5cfvy2xlfjrsyw0000gn/T/ipykernel_82729/109507841.py:7: FutureWarning: Support for multi-dimensional indexing (e.g. `obj[:, None]`) is deprecated and will be removed in a future version.  Convert to a numpy array before indexing instead.\n",
      "  df = {key: value[:, tf.newaxis] for key,value in dataframe.items()}\n"
     ]
    },
    {
     "name": "stdout",
     "output_type": "stream",
     "text": [
      "WARNING:tensorflow:5 out of the last 14 calls to <function PreprocessingLayer.make_adapt_function.<locals>.adapt_step at 0x293870b80> triggered tf.function retracing. Tracing is expensive and the excessive number of tracings could be due to (1) creating @tf.function repeatedly in a loop, (2) passing tensors with different shapes, (3) passing Python objects instead of tensors. For (1), please define your @tf.function outside of the loop. For (2), @tf.function has reduce_retracing=True option that can avoid unnecessary retracing. For (3), please refer to https://www.tensorflow.org/guide/function#controlling_retracing and https://www.tensorflow.org/api_docs/python/tf/function for  more details.\n",
      "WARNING:tensorflow:5 out of the last 13 calls to <function PreprocessingLayer.make_adapt_function.<locals>.adapt_step at 0x2931b3490> triggered tf.function retracing. Tracing is expensive and the excessive number of tracings could be due to (1) creating @tf.function repeatedly in a loop, (2) passing tensors with different shapes, (3) passing Python objects instead of tensors. For (1), please define your @tf.function outside of the loop. For (2), @tf.function has reduce_retracing=True option that can avoid unnecessary retracing. For (3), please refer to https://www.tensorflow.org/guide/function#controlling_retracing and https://www.tensorflow.org/api_docs/python/tf/function for  more details.\n"
     ]
    }
   ],
   "source": [
    "batch_size = 100\n",
    "train_ds = df_to_dataset(nn_train, batch_size=batch_size)\n",
    "val_ds = df_to_dataset(nn_val, batch_size=batch_size)\n",
    "\n",
    "all_inputs = []\n",
    "encoded_features = []\n",
    "\n",
    "# Numeric features.\n",
    "for header in numerical_features:\n",
    "    numeric_col = tf.keras.Input(shape=(1,), name=header)\n",
    "    normalization_layer = get_normalization_layer(header, train_ds)\n",
    "    encoded_numeric_col = normalization_layer(numeric_col)\n",
    "    all_inputs.append(numeric_col)\n",
    "    encoded_features.append(encoded_numeric_col)\n",
    "\n",
    "# Categorical features encoded as strings (\"activity\")\n",
    "activity_col = tf.keras.Input(shape=(1,), name=\"activity\", dtype=\"string\")\n",
    "encoding_layer = get_category_encoding_layer(\"activity\", train_ds, dtype=\"string\")\n",
    "encoded_activity_col = encoding_layer(activity_col)\n",
    "all_inputs.append(activity_col)\n",
    "encoded_features.append(encoded_activity_col)\n"
   ]
  },
  {
   "cell_type": "code",
   "execution_count": 82,
   "metadata": {},
   "outputs": [],
   "source": [
    "# create, compile and train the model\n",
    "all_features = tf.keras.layers.concatenate(encoded_features)\n",
    "x = tf.keras.layers.Dense(32, activation=\"relu\")(all_features)\n",
    "x = tf.keras.layers.Dropout(0.5)(x)\n",
    "output = tf.keras.layers.Dense(1)(x)\n",
    "\n",
    "model = tf.keras.Model(all_inputs, output)\n",
    "model.compile(optimizer='adam',\n",
    "              loss=tf.keras.losses.BinaryCrossentropy(from_logits=True),\n",
    "              metrics=[\"accuracy\"])\n",
    "\n",
    "callback = tf.keras.callbacks.EarlyStopping(monitor='loss', patience=4)\n"
   ]
  },
  {
   "cell_type": "code",
   "execution_count": 89,
   "metadata": {},
   "outputs": [
    {
     "name": "stdout",
     "output_type": "stream",
     "text": [
      "Epoch 1/20\n",
      "3/3 [==============================] - 0s 7ms/step - loss: 0.6434 - accuracy: 0.5985 - val_loss: 0.7652 - val_accuracy: 0.4531\n",
      "Epoch 2/20\n",
      "3/3 [==============================] - 0s 6ms/step - loss: 0.6841 - accuracy: 0.5444 - val_loss: 0.7637 - val_accuracy: 0.4375\n",
      "Epoch 3/20\n",
      "3/3 [==============================] - 0s 21ms/step - loss: 0.6816 - accuracy: 0.5714 - val_loss: 0.7630 - val_accuracy: 0.4375\n",
      "Epoch 4/20\n",
      "3/3 [==============================] - 0s 8ms/step - loss: 0.6756 - accuracy: 0.5483 - val_loss: 0.7611 - val_accuracy: 0.4219\n",
      "Epoch 5/20\n",
      "3/3 [==============================] - 0s 7ms/step - loss: 0.6446 - accuracy: 0.5598 - val_loss: 0.7575 - val_accuracy: 0.4219\n"
     ]
    }
   ],
   "source": [
    "history = model.fit(train_ds, epochs=20, validation_data=val_ds, callbacks=[callback])"
   ]
  },
  {
   "cell_type": "code",
   "execution_count": 88,
   "metadata": {},
   "outputs": [
    {
     "data": {
      "text/plain": [
       "[0.8101400136947632,\n",
       " 0.7868034839630127,\n",
       " 0.7245426774024963,\n",
       " 0.7520821690559387,\n",
       " 0.7643103003501892,\n",
       " 0.7599539756774902,\n",
       " 0.7229204177856445,\n",
       " 0.713982343673706,\n",
       " 0.7841185331344604,\n",
       " 0.7161809802055359,\n",
       " 0.7458241581916809,\n",
       " 0.7095054984092712,\n",
       " 0.7039797306060791,\n",
       " 0.7455894351005554,\n",
       " 0.7140156626701355,\n",
       " 0.664199709892273,\n",
       " 0.7145289778709412,\n",
       " 0.6164607405662537,\n",
       " 0.6792212724685669,\n",
       " 0.6966743469238281,\n",
       " 0.7090566754341125,\n",
       " 0.64713454246521]"
      ]
     },
     "execution_count": 88,
     "metadata": {},
     "output_type": "execute_result"
    }
   ],
   "source": [
    "history.history[\"loss\"]"
   ]
  },
  {
   "cell_type": "markdown",
   "metadata": {},
   "source": [
    "### Adding additional features to the Neural Net: the levels themselves"
   ]
  },
  {
   "cell_type": "code",
   "execution_count": 3,
   "metadata": {},
   "outputs": [],
   "source": [
    "from UpStraight_Data import build_level_features, build_dist_features, build_training_data, process_user_health"
   ]
  },
  {
   "cell_type": "code",
   "execution_count": 34,
   "metadata": {},
   "outputs": [
    {
     "name": "stderr",
     "output_type": "stream",
     "text": [
      "/Users/lasse/Library/Mobile Documents/com~apple~CloudDocs/Health Data/watch_data/UpStraight_analytics/notebooks/../UpStraight_Data.py:170: DtypeWarning: Columns (10,16,17,18,27,32,33,35,41,54,60,65) have mixed types. Specify dtype option on import or set low_memory=False.\n",
      "  health_p = process_user_health(pd.read_csv(f\"{path}health_filtered_{user}.csv\"))\n",
      "/Users/lasse/Library/Mobile Documents/com~apple~CloudDocs/Health Data/watch_data/UpStraight_analytics/notebooks/../apple_watch_data_package/Apple_Data.py:16: SettingWithCopyWarning: \n",
      "A value is trying to be set on a copy of a slice from a DataFrame.\n",
      "Try using .loc[row_indexer,col_indexer] = value instead\n",
      "\n",
      "See the caveats in the documentation: https://pandas.pydata.org/pandas-docs/stable/user_guide/indexing.html#returning-a-view-versus-a-copy\n",
      "  data[\"start\"] = pd.to_datetime(data.startDate).dt.tz_localize(None)\n",
      "/Users/lasse/Library/Mobile Documents/com~apple~CloudDocs/Health Data/watch_data/UpStraight_analytics/notebooks/../apple_watch_data_package/Apple_Data.py:17: SettingWithCopyWarning: \n",
      "A value is trying to be set on a copy of a slice from a DataFrame.\n",
      "Try using .loc[row_indexer,col_indexer] = value instead\n",
      "\n",
      "See the caveats in the documentation: https://pandas.pydata.org/pandas-docs/stable/user_guide/indexing.html#returning-a-view-versus-a-copy\n",
      "  data[\"end\"] = pd.to_datetime(data.endDate).dt.tz_localize(None)\n",
      "/Users/lasse/Library/Mobile Documents/com~apple~CloudDocs/Health Data/watch_data/UpStraight_analytics/notebooks/../apple_watch_data_package/Apple_Data.py:18: SettingWithCopyWarning: \n",
      "A value is trying to be set on a copy of a slice from a DataFrame.\n",
      "Try using .loc[row_indexer,col_indexer] = value instead\n",
      "\n",
      "See the caveats in the documentation: https://pandas.pydata.org/pandas-docs/stable/user_guide/indexing.html#returning-a-view-versus-a-copy\n",
      "  data[\"day_date\"] = data[\"start\"].dt.date\n",
      "/Users/lasse/Library/Mobile Documents/com~apple~CloudDocs/Health Data/watch_data/UpStraight_analytics/notebooks/../apple_watch_data_package/Apple_Data.py:19: SettingWithCopyWarning: \n",
      "A value is trying to be set on a copy of a slice from a DataFrame.\n",
      "Try using .loc[row_indexer,col_indexer] = value instead\n",
      "\n",
      "See the caveats in the documentation: https://pandas.pydata.org/pandas-docs/stable/user_guide/indexing.html#returning-a-view-versus-a-copy\n",
      "  data[\"time\"] = data[\"start\"].dt.time\n",
      "/Users/lasse/Library/Mobile Documents/com~apple~CloudDocs/Health Data/watch_data/UpStraight_analytics/notebooks/../apple_watch_data_package/Apple_Data.py:20: FutureWarning: Series.dt.weekofyear and Series.dt.week have been deprecated. Please use Series.dt.isocalendar().week instead.\n",
      "  data[\"week\"] = data[\"start\"].dt.week\n",
      "/Users/lasse/Library/Mobile Documents/com~apple~CloudDocs/Health Data/watch_data/UpStraight_analytics/notebooks/../apple_watch_data_package/Apple_Data.py:20: SettingWithCopyWarning: \n",
      "A value is trying to be set on a copy of a slice from a DataFrame.\n",
      "Try using .loc[row_indexer,col_indexer] = value instead\n",
      "\n",
      "See the caveats in the documentation: https://pandas.pydata.org/pandas-docs/stable/user_guide/indexing.html#returning-a-view-versus-a-copy\n",
      "  data[\"week\"] = data[\"start\"].dt.week\n",
      "/Users/lasse/Library/Mobile Documents/com~apple~CloudDocs/Health Data/watch_data/UpStraight_analytics/notebooks/../apple_watch_data_package/Apple_Data.py:21: SettingWithCopyWarning: \n",
      "A value is trying to be set on a copy of a slice from a DataFrame.\n",
      "Try using .loc[row_indexer,col_indexer] = value instead\n",
      "\n",
      "See the caveats in the documentation: https://pandas.pydata.org/pandas-docs/stable/user_guide/indexing.html#returning-a-view-versus-a-copy\n",
      "  data[\"weekday\"] = data[\"start\"].dt.weekday\n",
      "/Users/lasse/Library/Mobile Documents/com~apple~CloudDocs/Health Data/watch_data/UpStraight_analytics/notebooks/../apple_watch_data_package/Apple_Data.py:22: SettingWithCopyWarning: \n",
      "A value is trying to be set on a copy of a slice from a DataFrame.\n",
      "Try using .loc[row_indexer,col_indexer] = value instead\n",
      "\n",
      "See the caveats in the documentation: https://pandas.pydata.org/pandas-docs/stable/user_guide/indexing.html#returning-a-view-versus-a-copy\n",
      "  data[\"day\"] = data[\"start\"].dt.day\n",
      "/Users/lasse/Library/Mobile Documents/com~apple~CloudDocs/Health Data/watch_data/UpStraight_analytics/notebooks/../apple_watch_data_package/Apple_Data.py:23: SettingWithCopyWarning: \n",
      "A value is trying to be set on a copy of a slice from a DataFrame.\n",
      "Try using .loc[row_indexer,col_indexer] = value instead\n",
      "\n",
      "See the caveats in the documentation: https://pandas.pydata.org/pandas-docs/stable/user_guide/indexing.html#returning-a-view-versus-a-copy\n",
      "  data[\"hour\"] = data[\"start\"].dt.hour\n",
      "/Users/lasse/Library/Mobile Documents/com~apple~CloudDocs/Health Data/watch_data/UpStraight_analytics/notebooks/../apple_watch_data_package/Apple_Data.py:41: SettingWithCopyWarning: \n",
      "A value is trying to be set on a copy of a slice from a DataFrame.\n",
      "Try using .loc[row_indexer,col_indexer] = value instead\n",
      "\n",
      "See the caveats in the documentation: https://pandas.pydata.org/pandas-docs/stable/user_guide/indexing.html#returning-a-view-versus-a-copy\n",
      "  raw[\"value\"] = pd.to_numeric(raw[\"value\"], errors=\"coerce\")\n",
      "/Users/lasse/Library/Mobile Documents/com~apple~CloudDocs/Health Data/watch_data/UpStraight_analytics/notebooks/../apple_watch_data_package/Apple_Data.py:71: FutureWarning: The frame.append method is deprecated and will be removed from pandas in a future version. Use pandas.concat instead.\n",
      "  return data.append(missing_entries)\n",
      "100%|██████████| 139/139 [00:01<00:00, 84.51it/s] \n",
      "/Users/lasse/Library/Mobile Documents/com~apple~CloudDocs/Health Data/watch_data/UpStraight_analytics/notebooks/../UpStraight_Data.py:170: DtypeWarning: Columns (16,24,25,27,39,40,47,56) have mixed types. Specify dtype option on import or set low_memory=False.\n",
      "  health_p = process_user_health(pd.read_csv(f\"{path}health_filtered_{user}.csv\"))\n",
      "/Users/lasse/Library/Mobile Documents/com~apple~CloudDocs/Health Data/watch_data/UpStraight_analytics/notebooks/../apple_watch_data_package/Apple_Data.py:16: SettingWithCopyWarning: \n",
      "A value is trying to be set on a copy of a slice from a DataFrame.\n",
      "Try using .loc[row_indexer,col_indexer] = value instead\n",
      "\n",
      "See the caveats in the documentation: https://pandas.pydata.org/pandas-docs/stable/user_guide/indexing.html#returning-a-view-versus-a-copy\n",
      "  data[\"start\"] = pd.to_datetime(data.startDate).dt.tz_localize(None)\n",
      "/Users/lasse/Library/Mobile Documents/com~apple~CloudDocs/Health Data/watch_data/UpStraight_analytics/notebooks/../apple_watch_data_package/Apple_Data.py:17: SettingWithCopyWarning: \n",
      "A value is trying to be set on a copy of a slice from a DataFrame.\n",
      "Try using .loc[row_indexer,col_indexer] = value instead\n",
      "\n",
      "See the caveats in the documentation: https://pandas.pydata.org/pandas-docs/stable/user_guide/indexing.html#returning-a-view-versus-a-copy\n",
      "  data[\"end\"] = pd.to_datetime(data.endDate).dt.tz_localize(None)\n",
      "/Users/lasse/Library/Mobile Documents/com~apple~CloudDocs/Health Data/watch_data/UpStraight_analytics/notebooks/../apple_watch_data_package/Apple_Data.py:18: SettingWithCopyWarning: \n",
      "A value is trying to be set on a copy of a slice from a DataFrame.\n",
      "Try using .loc[row_indexer,col_indexer] = value instead\n",
      "\n",
      "See the caveats in the documentation: https://pandas.pydata.org/pandas-docs/stable/user_guide/indexing.html#returning-a-view-versus-a-copy\n",
      "  data[\"day_date\"] = data[\"start\"].dt.date\n",
      "/Users/lasse/Library/Mobile Documents/com~apple~CloudDocs/Health Data/watch_data/UpStraight_analytics/notebooks/../apple_watch_data_package/Apple_Data.py:19: SettingWithCopyWarning: \n",
      "A value is trying to be set on a copy of a slice from a DataFrame.\n",
      "Try using .loc[row_indexer,col_indexer] = value instead\n",
      "\n",
      "See the caveats in the documentation: https://pandas.pydata.org/pandas-docs/stable/user_guide/indexing.html#returning-a-view-versus-a-copy\n",
      "  data[\"time\"] = data[\"start\"].dt.time\n",
      "/Users/lasse/Library/Mobile Documents/com~apple~CloudDocs/Health Data/watch_data/UpStraight_analytics/notebooks/../apple_watch_data_package/Apple_Data.py:20: FutureWarning: Series.dt.weekofyear and Series.dt.week have been deprecated. Please use Series.dt.isocalendar().week instead.\n",
      "  data[\"week\"] = data[\"start\"].dt.week\n",
      "/Users/lasse/Library/Mobile Documents/com~apple~CloudDocs/Health Data/watch_data/UpStraight_analytics/notebooks/../apple_watch_data_package/Apple_Data.py:20: SettingWithCopyWarning: \n",
      "A value is trying to be set on a copy of a slice from a DataFrame.\n",
      "Try using .loc[row_indexer,col_indexer] = value instead\n",
      "\n",
      "See the caveats in the documentation: https://pandas.pydata.org/pandas-docs/stable/user_guide/indexing.html#returning-a-view-versus-a-copy\n",
      "  data[\"week\"] = data[\"start\"].dt.week\n",
      "/Users/lasse/Library/Mobile Documents/com~apple~CloudDocs/Health Data/watch_data/UpStraight_analytics/notebooks/../apple_watch_data_package/Apple_Data.py:21: SettingWithCopyWarning: \n",
      "A value is trying to be set on a copy of a slice from a DataFrame.\n",
      "Try using .loc[row_indexer,col_indexer] = value instead\n",
      "\n",
      "See the caveats in the documentation: https://pandas.pydata.org/pandas-docs/stable/user_guide/indexing.html#returning-a-view-versus-a-copy\n",
      "  data[\"weekday\"] = data[\"start\"].dt.weekday\n",
      "/Users/lasse/Library/Mobile Documents/com~apple~CloudDocs/Health Data/watch_data/UpStraight_analytics/notebooks/../apple_watch_data_package/Apple_Data.py:22: SettingWithCopyWarning: \n",
      "A value is trying to be set on a copy of a slice from a DataFrame.\n",
      "Try using .loc[row_indexer,col_indexer] = value instead\n",
      "\n",
      "See the caveats in the documentation: https://pandas.pydata.org/pandas-docs/stable/user_guide/indexing.html#returning-a-view-versus-a-copy\n",
      "  data[\"day\"] = data[\"start\"].dt.day\n",
      "/Users/lasse/Library/Mobile Documents/com~apple~CloudDocs/Health Data/watch_data/UpStraight_analytics/notebooks/../apple_watch_data_package/Apple_Data.py:23: SettingWithCopyWarning: \n",
      "A value is trying to be set on a copy of a slice from a DataFrame.\n",
      "Try using .loc[row_indexer,col_indexer] = value instead\n",
      "\n",
      "See the caveats in the documentation: https://pandas.pydata.org/pandas-docs/stable/user_guide/indexing.html#returning-a-view-versus-a-copy\n",
      "  data[\"hour\"] = data[\"start\"].dt.hour\n",
      "/Users/lasse/Library/Mobile Documents/com~apple~CloudDocs/Health Data/watch_data/UpStraight_analytics/notebooks/../apple_watch_data_package/Apple_Data.py:41: SettingWithCopyWarning: \n",
      "A value is trying to be set on a copy of a slice from a DataFrame.\n",
      "Try using .loc[row_indexer,col_indexer] = value instead\n",
      "\n",
      "See the caveats in the documentation: https://pandas.pydata.org/pandas-docs/stable/user_guide/indexing.html#returning-a-view-versus-a-copy\n",
      "  raw[\"value\"] = pd.to_numeric(raw[\"value\"], errors=\"coerce\")\n",
      "/Users/lasse/Library/Mobile Documents/com~apple~CloudDocs/Health Data/watch_data/UpStraight_analytics/notebooks/../apple_watch_data_package/Apple_Data.py:71: FutureWarning: The frame.append method is deprecated and will be removed from pandas in a future version. Use pandas.concat instead.\n",
      "  return data.append(missing_entries)\n",
      "100%|██████████| 116/116 [00:01<00:00, 85.41it/s]\n",
      "/Users/lasse/Library/Mobile Documents/com~apple~CloudDocs/Health Data/watch_data/UpStraight_analytics/notebooks/../apple_watch_data_package/Apple_Data.py:16: SettingWithCopyWarning: \n",
      "A value is trying to be set on a copy of a slice from a DataFrame.\n",
      "Try using .loc[row_indexer,col_indexer] = value instead\n",
      "\n",
      "See the caveats in the documentation: https://pandas.pydata.org/pandas-docs/stable/user_guide/indexing.html#returning-a-view-versus-a-copy\n",
      "  data[\"start\"] = pd.to_datetime(data.startDate).dt.tz_localize(None)\n",
      "/Users/lasse/Library/Mobile Documents/com~apple~CloudDocs/Health Data/watch_data/UpStraight_analytics/notebooks/../apple_watch_data_package/Apple_Data.py:17: SettingWithCopyWarning: \n",
      "A value is trying to be set on a copy of a slice from a DataFrame.\n",
      "Try using .loc[row_indexer,col_indexer] = value instead\n",
      "\n",
      "See the caveats in the documentation: https://pandas.pydata.org/pandas-docs/stable/user_guide/indexing.html#returning-a-view-versus-a-copy\n",
      "  data[\"end\"] = pd.to_datetime(data.endDate).dt.tz_localize(None)\n",
      "/Users/lasse/Library/Mobile Documents/com~apple~CloudDocs/Health Data/watch_data/UpStraight_analytics/notebooks/../apple_watch_data_package/Apple_Data.py:18: SettingWithCopyWarning: \n",
      "A value is trying to be set on a copy of a slice from a DataFrame.\n",
      "Try using .loc[row_indexer,col_indexer] = value instead\n",
      "\n",
      "See the caveats in the documentation: https://pandas.pydata.org/pandas-docs/stable/user_guide/indexing.html#returning-a-view-versus-a-copy\n",
      "  data[\"day_date\"] = data[\"start\"].dt.date\n",
      "/Users/lasse/Library/Mobile Documents/com~apple~CloudDocs/Health Data/watch_data/UpStraight_analytics/notebooks/../apple_watch_data_package/Apple_Data.py:19: SettingWithCopyWarning: \n",
      "A value is trying to be set on a copy of a slice from a DataFrame.\n",
      "Try using .loc[row_indexer,col_indexer] = value instead\n",
      "\n",
      "See the caveats in the documentation: https://pandas.pydata.org/pandas-docs/stable/user_guide/indexing.html#returning-a-view-versus-a-copy\n",
      "  data[\"time\"] = data[\"start\"].dt.time\n",
      "/Users/lasse/Library/Mobile Documents/com~apple~CloudDocs/Health Data/watch_data/UpStraight_analytics/notebooks/../apple_watch_data_package/Apple_Data.py:20: FutureWarning: Series.dt.weekofyear and Series.dt.week have been deprecated. Please use Series.dt.isocalendar().week instead.\n",
      "  data[\"week\"] = data[\"start\"].dt.week\n",
      "/Users/lasse/Library/Mobile Documents/com~apple~CloudDocs/Health Data/watch_data/UpStraight_analytics/notebooks/../apple_watch_data_package/Apple_Data.py:20: SettingWithCopyWarning: \n",
      "A value is trying to be set on a copy of a slice from a DataFrame.\n",
      "Try using .loc[row_indexer,col_indexer] = value instead\n",
      "\n",
      "See the caveats in the documentation: https://pandas.pydata.org/pandas-docs/stable/user_guide/indexing.html#returning-a-view-versus-a-copy\n",
      "  data[\"week\"] = data[\"start\"].dt.week\n",
      "/Users/lasse/Library/Mobile Documents/com~apple~CloudDocs/Health Data/watch_data/UpStraight_analytics/notebooks/../apple_watch_data_package/Apple_Data.py:21: SettingWithCopyWarning: \n",
      "A value is trying to be set on a copy of a slice from a DataFrame.\n",
      "Try using .loc[row_indexer,col_indexer] = value instead\n",
      "\n",
      "See the caveats in the documentation: https://pandas.pydata.org/pandas-docs/stable/user_guide/indexing.html#returning-a-view-versus-a-copy\n",
      "  data[\"weekday\"] = data[\"start\"].dt.weekday\n",
      "/Users/lasse/Library/Mobile Documents/com~apple~CloudDocs/Health Data/watch_data/UpStraight_analytics/notebooks/../apple_watch_data_package/Apple_Data.py:22: SettingWithCopyWarning: \n",
      "A value is trying to be set on a copy of a slice from a DataFrame.\n",
      "Try using .loc[row_indexer,col_indexer] = value instead\n",
      "\n",
      "See the caveats in the documentation: https://pandas.pydata.org/pandas-docs/stable/user_guide/indexing.html#returning-a-view-versus-a-copy\n",
      "  data[\"day\"] = data[\"start\"].dt.day\n",
      "/Users/lasse/Library/Mobile Documents/com~apple~CloudDocs/Health Data/watch_data/UpStraight_analytics/notebooks/../apple_watch_data_package/Apple_Data.py:23: SettingWithCopyWarning: \n",
      "A value is trying to be set on a copy of a slice from a DataFrame.\n",
      "Try using .loc[row_indexer,col_indexer] = value instead\n",
      "\n",
      "See the caveats in the documentation: https://pandas.pydata.org/pandas-docs/stable/user_guide/indexing.html#returning-a-view-versus-a-copy\n",
      "  data[\"hour\"] = data[\"start\"].dt.hour\n",
      "/Users/lasse/Library/Mobile Documents/com~apple~CloudDocs/Health Data/watch_data/UpStraight_analytics/notebooks/../apple_watch_data_package/Apple_Data.py:41: SettingWithCopyWarning: \n",
      "A value is trying to be set on a copy of a slice from a DataFrame.\n",
      "Try using .loc[row_indexer,col_indexer] = value instead\n",
      "\n",
      "See the caveats in the documentation: https://pandas.pydata.org/pandas-docs/stable/user_guide/indexing.html#returning-a-view-versus-a-copy\n",
      "  raw[\"value\"] = pd.to_numeric(raw[\"value\"], errors=\"coerce\")\n",
      "/Users/lasse/Library/Mobile Documents/com~apple~CloudDocs/Health Data/watch_data/UpStraight_analytics/notebooks/../apple_watch_data_package/Apple_Data.py:71: FutureWarning: The frame.append method is deprecated and will be removed from pandas in a future version. Use pandas.concat instead.\n",
      "  return data.append(missing_entries)\n",
      "100%|██████████| 81/81 [00:00<00:00, 175.90it/s]\n",
      "/Users/lasse/Library/Mobile Documents/com~apple~CloudDocs/Health Data/watch_data/UpStraight_analytics/notebooks/../UpStraight_Data.py:170: DtypeWarning: Columns (8,10,12,13,15,16,17,23,25,30,40,41,47,50,52,55) have mixed types. Specify dtype option on import or set low_memory=False.\n",
      "  health_p = process_user_health(pd.read_csv(f\"{path}health_filtered_{user}.csv\"))\n",
      "/Users/lasse/Library/Mobile Documents/com~apple~CloudDocs/Health Data/watch_data/UpStraight_analytics/notebooks/../apple_watch_data_package/Apple_Data.py:16: SettingWithCopyWarning: \n",
      "A value is trying to be set on a copy of a slice from a DataFrame.\n",
      "Try using .loc[row_indexer,col_indexer] = value instead\n",
      "\n",
      "See the caveats in the documentation: https://pandas.pydata.org/pandas-docs/stable/user_guide/indexing.html#returning-a-view-versus-a-copy\n",
      "  data[\"start\"] = pd.to_datetime(data.startDate).dt.tz_localize(None)\n",
      "/Users/lasse/Library/Mobile Documents/com~apple~CloudDocs/Health Data/watch_data/UpStraight_analytics/notebooks/../apple_watch_data_package/Apple_Data.py:17: SettingWithCopyWarning: \n",
      "A value is trying to be set on a copy of a slice from a DataFrame.\n",
      "Try using .loc[row_indexer,col_indexer] = value instead\n",
      "\n",
      "See the caveats in the documentation: https://pandas.pydata.org/pandas-docs/stable/user_guide/indexing.html#returning-a-view-versus-a-copy\n",
      "  data[\"end\"] = pd.to_datetime(data.endDate).dt.tz_localize(None)\n",
      "/Users/lasse/Library/Mobile Documents/com~apple~CloudDocs/Health Data/watch_data/UpStraight_analytics/notebooks/../apple_watch_data_package/Apple_Data.py:18: SettingWithCopyWarning: \n",
      "A value is trying to be set on a copy of a slice from a DataFrame.\n",
      "Try using .loc[row_indexer,col_indexer] = value instead\n",
      "\n",
      "See the caveats in the documentation: https://pandas.pydata.org/pandas-docs/stable/user_guide/indexing.html#returning-a-view-versus-a-copy\n",
      "  data[\"day_date\"] = data[\"start\"].dt.date\n",
      "/Users/lasse/Library/Mobile Documents/com~apple~CloudDocs/Health Data/watch_data/UpStraight_analytics/notebooks/../apple_watch_data_package/Apple_Data.py:19: SettingWithCopyWarning: \n",
      "A value is trying to be set on a copy of a slice from a DataFrame.\n",
      "Try using .loc[row_indexer,col_indexer] = value instead\n",
      "\n",
      "See the caveats in the documentation: https://pandas.pydata.org/pandas-docs/stable/user_guide/indexing.html#returning-a-view-versus-a-copy\n",
      "  data[\"time\"] = data[\"start\"].dt.time\n",
      "/Users/lasse/Library/Mobile Documents/com~apple~CloudDocs/Health Data/watch_data/UpStraight_analytics/notebooks/../apple_watch_data_package/Apple_Data.py:20: FutureWarning: Series.dt.weekofyear and Series.dt.week have been deprecated. Please use Series.dt.isocalendar().week instead.\n",
      "  data[\"week\"] = data[\"start\"].dt.week\n",
      "/Users/lasse/Library/Mobile Documents/com~apple~CloudDocs/Health Data/watch_data/UpStraight_analytics/notebooks/../apple_watch_data_package/Apple_Data.py:20: SettingWithCopyWarning: \n",
      "A value is trying to be set on a copy of a slice from a DataFrame.\n",
      "Try using .loc[row_indexer,col_indexer] = value instead\n",
      "\n",
      "See the caveats in the documentation: https://pandas.pydata.org/pandas-docs/stable/user_guide/indexing.html#returning-a-view-versus-a-copy\n",
      "  data[\"week\"] = data[\"start\"].dt.week\n",
      "/Users/lasse/Library/Mobile Documents/com~apple~CloudDocs/Health Data/watch_data/UpStraight_analytics/notebooks/../apple_watch_data_package/Apple_Data.py:21: SettingWithCopyWarning: \n",
      "A value is trying to be set on a copy of a slice from a DataFrame.\n",
      "Try using .loc[row_indexer,col_indexer] = value instead\n",
      "\n",
      "See the caveats in the documentation: https://pandas.pydata.org/pandas-docs/stable/user_guide/indexing.html#returning-a-view-versus-a-copy\n",
      "  data[\"weekday\"] = data[\"start\"].dt.weekday\n",
      "/Users/lasse/Library/Mobile Documents/com~apple~CloudDocs/Health Data/watch_data/UpStraight_analytics/notebooks/../apple_watch_data_package/Apple_Data.py:22: SettingWithCopyWarning: \n",
      "A value is trying to be set on a copy of a slice from a DataFrame.\n",
      "Try using .loc[row_indexer,col_indexer] = value instead\n",
      "\n",
      "See the caveats in the documentation: https://pandas.pydata.org/pandas-docs/stable/user_guide/indexing.html#returning-a-view-versus-a-copy\n",
      "  data[\"day\"] = data[\"start\"].dt.day\n",
      "/Users/lasse/Library/Mobile Documents/com~apple~CloudDocs/Health Data/watch_data/UpStraight_analytics/notebooks/../apple_watch_data_package/Apple_Data.py:23: SettingWithCopyWarning: \n",
      "A value is trying to be set on a copy of a slice from a DataFrame.\n",
      "Try using .loc[row_indexer,col_indexer] = value instead\n",
      "\n",
      "See the caveats in the documentation: https://pandas.pydata.org/pandas-docs/stable/user_guide/indexing.html#returning-a-view-versus-a-copy\n",
      "  data[\"hour\"] = data[\"start\"].dt.hour\n",
      "/Users/lasse/Library/Mobile Documents/com~apple~CloudDocs/Health Data/watch_data/UpStraight_analytics/notebooks/../apple_watch_data_package/Apple_Data.py:41: SettingWithCopyWarning: \n",
      "A value is trying to be set on a copy of a slice from a DataFrame.\n",
      "Try using .loc[row_indexer,col_indexer] = value instead\n",
      "\n",
      "See the caveats in the documentation: https://pandas.pydata.org/pandas-docs/stable/user_guide/indexing.html#returning-a-view-versus-a-copy\n",
      "  raw[\"value\"] = pd.to_numeric(raw[\"value\"], errors=\"coerce\")\n",
      "/Users/lasse/Library/Mobile Documents/com~apple~CloudDocs/Health Data/watch_data/UpStraight_analytics/notebooks/../apple_watch_data_package/Apple_Data.py:71: FutureWarning: The frame.append method is deprecated and will be removed from pandas in a future version. Use pandas.concat instead.\n",
      "  return data.append(missing_entries)\n",
      "100%|██████████| 90/90 [00:01<00:00, 46.22it/s]\n",
      "/Users/lasse/Library/Mobile Documents/com~apple~CloudDocs/Health Data/watch_data/UpStraight_analytics/notebooks/../UpStraight_Data.py:170: DtypeWarning: Columns (16,17) have mixed types. Specify dtype option on import or set low_memory=False.\n",
      "  health_p = process_user_health(pd.read_csv(f\"{path}health_filtered_{user}.csv\"))\n",
      "/Users/lasse/Library/Mobile Documents/com~apple~CloudDocs/Health Data/watch_data/UpStraight_analytics/notebooks/../apple_watch_data_package/Apple_Data.py:16: SettingWithCopyWarning: \n",
      "A value is trying to be set on a copy of a slice from a DataFrame.\n",
      "Try using .loc[row_indexer,col_indexer] = value instead\n",
      "\n",
      "See the caveats in the documentation: https://pandas.pydata.org/pandas-docs/stable/user_guide/indexing.html#returning-a-view-versus-a-copy\n",
      "  data[\"start\"] = pd.to_datetime(data.startDate).dt.tz_localize(None)\n",
      "/Users/lasse/Library/Mobile Documents/com~apple~CloudDocs/Health Data/watch_data/UpStraight_analytics/notebooks/../apple_watch_data_package/Apple_Data.py:17: SettingWithCopyWarning: \n",
      "A value is trying to be set on a copy of a slice from a DataFrame.\n",
      "Try using .loc[row_indexer,col_indexer] = value instead\n",
      "\n",
      "See the caveats in the documentation: https://pandas.pydata.org/pandas-docs/stable/user_guide/indexing.html#returning-a-view-versus-a-copy\n",
      "  data[\"end\"] = pd.to_datetime(data.endDate).dt.tz_localize(None)\n",
      "/Users/lasse/Library/Mobile Documents/com~apple~CloudDocs/Health Data/watch_data/UpStraight_analytics/notebooks/../apple_watch_data_package/Apple_Data.py:18: SettingWithCopyWarning: \n",
      "A value is trying to be set on a copy of a slice from a DataFrame.\n",
      "Try using .loc[row_indexer,col_indexer] = value instead\n",
      "\n",
      "See the caveats in the documentation: https://pandas.pydata.org/pandas-docs/stable/user_guide/indexing.html#returning-a-view-versus-a-copy\n",
      "  data[\"day_date\"] = data[\"start\"].dt.date\n",
      "/Users/lasse/Library/Mobile Documents/com~apple~CloudDocs/Health Data/watch_data/UpStraight_analytics/notebooks/../apple_watch_data_package/Apple_Data.py:19: SettingWithCopyWarning: \n",
      "A value is trying to be set on a copy of a slice from a DataFrame.\n",
      "Try using .loc[row_indexer,col_indexer] = value instead\n",
      "\n",
      "See the caveats in the documentation: https://pandas.pydata.org/pandas-docs/stable/user_guide/indexing.html#returning-a-view-versus-a-copy\n",
      "  data[\"time\"] = data[\"start\"].dt.time\n",
      "/Users/lasse/Library/Mobile Documents/com~apple~CloudDocs/Health Data/watch_data/UpStraight_analytics/notebooks/../apple_watch_data_package/Apple_Data.py:20: FutureWarning: Series.dt.weekofyear and Series.dt.week have been deprecated. Please use Series.dt.isocalendar().week instead.\n",
      "  data[\"week\"] = data[\"start\"].dt.week\n",
      "/Users/lasse/Library/Mobile Documents/com~apple~CloudDocs/Health Data/watch_data/UpStraight_analytics/notebooks/../apple_watch_data_package/Apple_Data.py:20: SettingWithCopyWarning: \n",
      "A value is trying to be set on a copy of a slice from a DataFrame.\n",
      "Try using .loc[row_indexer,col_indexer] = value instead\n",
      "\n",
      "See the caveats in the documentation: https://pandas.pydata.org/pandas-docs/stable/user_guide/indexing.html#returning-a-view-versus-a-copy\n",
      "  data[\"week\"] = data[\"start\"].dt.week\n",
      "/Users/lasse/Library/Mobile Documents/com~apple~CloudDocs/Health Data/watch_data/UpStraight_analytics/notebooks/../apple_watch_data_package/Apple_Data.py:21: SettingWithCopyWarning: \n",
      "A value is trying to be set on a copy of a slice from a DataFrame.\n",
      "Try using .loc[row_indexer,col_indexer] = value instead\n",
      "\n",
      "See the caveats in the documentation: https://pandas.pydata.org/pandas-docs/stable/user_guide/indexing.html#returning-a-view-versus-a-copy\n",
      "  data[\"weekday\"] = data[\"start\"].dt.weekday\n",
      "/Users/lasse/Library/Mobile Documents/com~apple~CloudDocs/Health Data/watch_data/UpStraight_analytics/notebooks/../apple_watch_data_package/Apple_Data.py:22: SettingWithCopyWarning: \n",
      "A value is trying to be set on a copy of a slice from a DataFrame.\n",
      "Try using .loc[row_indexer,col_indexer] = value instead\n",
      "\n",
      "See the caveats in the documentation: https://pandas.pydata.org/pandas-docs/stable/user_guide/indexing.html#returning-a-view-versus-a-copy\n",
      "  data[\"day\"] = data[\"start\"].dt.day\n",
      "/Users/lasse/Library/Mobile Documents/com~apple~CloudDocs/Health Data/watch_data/UpStraight_analytics/notebooks/../apple_watch_data_package/Apple_Data.py:23: SettingWithCopyWarning: \n",
      "A value is trying to be set on a copy of a slice from a DataFrame.\n",
      "Try using .loc[row_indexer,col_indexer] = value instead\n",
      "\n",
      "See the caveats in the documentation: https://pandas.pydata.org/pandas-docs/stable/user_guide/indexing.html#returning-a-view-versus-a-copy\n",
      "  data[\"hour\"] = data[\"start\"].dt.hour\n",
      "/Users/lasse/Library/Mobile Documents/com~apple~CloudDocs/Health Data/watch_data/UpStraight_analytics/notebooks/../apple_watch_data_package/Apple_Data.py:41: SettingWithCopyWarning: \n",
      "A value is trying to be set on a copy of a slice from a DataFrame.\n",
      "Try using .loc[row_indexer,col_indexer] = value instead\n",
      "\n",
      "See the caveats in the documentation: https://pandas.pydata.org/pandas-docs/stable/user_guide/indexing.html#returning-a-view-versus-a-copy\n",
      "  raw[\"value\"] = pd.to_numeric(raw[\"value\"], errors=\"coerce\")\n",
      "/Users/lasse/Library/Mobile Documents/com~apple~CloudDocs/Health Data/watch_data/UpStraight_analytics/notebooks/../apple_watch_data_package/Apple_Data.py:71: FutureWarning: The frame.append method is deprecated and will be removed from pandas in a future version. Use pandas.concat instead.\n",
      "  return data.append(missing_entries)\n",
      "100%|██████████| 41/41 [00:00<00:00, 190.11it/s]\n"
     ]
    }
   ],
   "source": [
    "testing = build_training_data(feature_building_function=build_level_features)"
   ]
  },
  {
   "cell_type": "code",
   "execution_count": 35,
   "metadata": {},
   "outputs": [
    {
     "data": {
      "text/plain": [
       "HeartRate_0              102\n",
       "HeartRate_1              102\n",
       "HeartRate_2              102\n",
       "HeartRate_3              102\n",
       "HeartRate_4              102\n",
       "HeartRate_5              102\n",
       "HeartRate_6              102\n",
       "HeartRate_7              102\n",
       "HeartRate_8              102\n",
       "HeartRate_9              102\n",
       "HeartRate_10             102\n",
       "HeartRate_11             102\n",
       "HeartRate_12             102\n",
       "HeartRate_13             102\n",
       "HeartRate_14             102\n",
       "HeartRate_15             102\n",
       "ActiveEnergyBurned_0      79\n",
       "ActiveEnergyBurned_1      79\n",
       "ActiveEnergyBurned_2      79\n",
       "ActiveEnergyBurned_3      79\n",
       "ActiveEnergyBurned_4      79\n",
       "ActiveEnergyBurned_5      79\n",
       "ActiveEnergyBurned_6      79\n",
       "ActiveEnergyBurned_7      79\n",
       "ActiveEnergyBurned_8      79\n",
       "ActiveEnergyBurned_9      79\n",
       "ActiveEnergyBurned_10     79\n",
       "ActiveEnergyBurned_11     79\n",
       "ActiveEnergyBurned_12     79\n",
       "ActiveEnergyBurned_13     79\n",
       "ActiveEnergyBurned_14     79\n",
       "ActiveEnergyBurned_15     79\n",
       "AppleStandTime_0          27\n",
       "AppleStandTime_1          27\n",
       "AppleStandTime_2          27\n",
       "AppleStandTime_3          27\n",
       "AppleStandTime_4          27\n",
       "AppleStandTime_5          27\n",
       "dtype: int64"
      ]
     },
     "execution_count": 35,
     "metadata": {},
     "output_type": "execute_result"
    }
   ],
   "source": [
    "# count nr of occurences of \"overbound\" in each column\n",
    "testing.iloc[:,10:].apply(lambda x: x.str.contains(\"overbound\").sum())"
   ]
  },
  {
   "cell_type": "code",
   "execution_count": 36,
   "metadata": {},
   "outputs": [
    {
     "data": {
      "text/plain": [
       "(327, 48)"
      ]
     },
     "execution_count": 36,
     "metadata": {},
     "output_type": "execute_result"
    }
   ],
   "source": [
    "# replace \"overbound\" with pd.NA\n",
    "testing = testing.replace(\"overbound\", pd.NA)\n",
    "testing_no_na = testing.dropna()\n",
    "testing_no_na.shape"
   ]
  },
  {
   "cell_type": "code",
   "execution_count": 33,
   "metadata": {},
   "outputs": [
    {
     "data": {
      "text/plain": [
       "(323, 52)"
      ]
     },
     "execution_count": 33,
     "metadata": {},
     "output_type": "execute_result"
    }
   ],
   "source": [
    "# for comparison\n",
    "data_md.shape"
   ]
  },
  {
   "cell_type": "markdown",
   "metadata": {},
   "source": [
    "### train the same NEural Net on the new raw data features\n"
   ]
  },
  {
   "cell_type": "code",
   "execution_count": 54,
   "metadata": {},
   "outputs": [],
   "source": [
    "train_cols = ['hour', 'HeartRate_0', 'HeartRate_1',\n",
    "       'HeartRate_2', 'HeartRate_3', 'HeartRate_4', 'HeartRate_5',\n",
    "       'HeartRate_6', 'HeartRate_7', 'HeartRate_8', 'HeartRate_9',\n",
    "       'HeartRate_10', 'HeartRate_11', 'HeartRate_12', 'HeartRate_13',\n",
    "       'HeartRate_14', 'HeartRate_15', 'ActiveEnergyBurned_0',\n",
    "       'ActiveEnergyBurned_1', 'ActiveEnergyBurned_2', 'ActiveEnergyBurned_3',\n",
    "       'ActiveEnergyBurned_4', 'ActiveEnergyBurned_5', 'ActiveEnergyBurned_6',\n",
    "       'ActiveEnergyBurned_7', 'ActiveEnergyBurned_8', 'ActiveEnergyBurned_9',\n",
    "       'ActiveEnergyBurned_10', 'ActiveEnergyBurned_11',\n",
    "       'ActiveEnergyBurned_12', 'ActiveEnergyBurned_13',\n",
    "       'ActiveEnergyBurned_14', 'ActiveEnergyBurned_15', 'AppleStandTime_0',\n",
    "       'AppleStandTime_1', 'AppleStandTime_2', 'AppleStandTime_3',\n",
    "       'AppleStandTime_4', 'AppleStandTime_5']"
   ]
  },
  {
   "cell_type": "code",
   "execution_count": 74,
   "metadata": {},
   "outputs": [],
   "source": [
    "# select cols fromo testing_no_na and set all to numeric\n",
    "nn_data_new = testing_no_na[train_cols + [\"posture\"]].apply(pd.to_numeric)\n",
    "\n",
    "# create validation set (random 20% of data) using numpy\n",
    "import numpy as np\n",
    "msk = (np.random.rand(len(nn_data_new)) < 0.8)\n",
    "nn_train = nn_data_new[msk]\n",
    "nn_val = nn_data_new[~msk]"
   ]
  },
  {
   "cell_type": "code",
   "execution_count": 75,
   "metadata": {},
   "outputs": [
    {
     "name": "stderr",
     "output_type": "stream",
     "text": [
      "/var/folders/yx/_8fch6cj6w5cfvy2xlfjrsyw0000gn/T/ipykernel_6686/109507841.py:7: FutureWarning: Support for multi-dimensional indexing (e.g. `obj[:, None]`) is deprecated and will be removed in a future version.  Convert to a numpy array before indexing instead.\n",
      "  df = {key: value[:, tf.newaxis] for key,value in dataframe.items()}\n",
      "/var/folders/yx/_8fch6cj6w5cfvy2xlfjrsyw0000gn/T/ipykernel_6686/109507841.py:7: FutureWarning: Support for multi-dimensional indexing (e.g. `obj[:, None]`) is deprecated and will be removed in a future version.  Convert to a numpy array before indexing instead.\n",
      "  df = {key: value[:, tf.newaxis] for key,value in dataframe.items()}\n"
     ]
    }
   ],
   "source": [
    "batch_size = 50\n",
    "train_ds = df_to_dataset(nn_train, batch_size=batch_size)\n",
    "val_ds = df_to_dataset(nn_val, batch_size=batch_size)\n",
    "\n",
    "all_inputs = []\n",
    "encoded_features = []\n",
    "\n",
    "# Numeric features.\n",
    "for header in train_cols:\n",
    "    numeric_col = tf.keras.Input(shape=(1,), name=header)\n",
    "    normalization_layer = get_normalization_layer(header, train_ds)\n",
    "    encoded_numeric_col = normalization_layer(numeric_col)\n",
    "    all_inputs.append(numeric_col)\n",
    "    encoded_features.append(encoded_numeric_col)"
   ]
  },
  {
   "cell_type": "code",
   "execution_count": 77,
   "metadata": {},
   "outputs": [],
   "source": [
    "# new model\n",
    "\n",
    "# create, compile and train the model\n",
    "all_features = tf.keras.layers.concatenate(encoded_features)\n",
    "x = tf.keras.layers.Dense(32, activation=\"relu\")(all_features)\n",
    "x = tf.keras.layers.Dropout(0.5)(x)\n",
    "output = tf.keras.layers.Dense(1)(x)\n",
    "\n",
    "model = tf.keras.Model(all_inputs, output)\n",
    "model.compile(optimizer='adam',\n",
    "              loss=tf.keras.losses.BinaryCrossentropy(from_logits=True),\n",
    "              metrics=[\"accuracy\"])\n",
    "\n",
    "callback = tf.keras.callbacks.EarlyStopping(monitor='loss', patience=4)\n"
   ]
  },
  {
   "cell_type": "code",
   "execution_count": 78,
   "metadata": {},
   "outputs": [
    {
     "name": "stdout",
     "output_type": "stream",
     "text": [
      "Epoch 1/20\n"
     ]
    },
    {
     "name": "stderr",
     "output_type": "stream",
     "text": [
      "/Users/lasse/miniconda3/envs/upstraight/lib/python3.10/site-packages/keras/engine/functional.py:638: UserWarning: Input dict contained keys ['posture'] which did not match any model input. They will be ignored by the model.\n",
      "  inputs = self._flatten_to_reference_inputs(inputs)\n"
     ]
    },
    {
     "name": "stdout",
     "output_type": "stream",
     "text": [
      "6/6 [==============================] - 1s 36ms/step - loss: 0.8357 - accuracy: 0.2077 - val_loss: 0.8316 - val_accuracy: 0.1194\n",
      "Epoch 2/20\n",
      "6/6 [==============================] - 0s 3ms/step - loss: 0.7192 - accuracy: 0.2308 - val_loss: 0.7838 - val_accuracy: 0.0746\n",
      "Epoch 3/20\n",
      "6/6 [==============================] - 0s 3ms/step - loss: 0.5970 - accuracy: 0.2192 - val_loss: 0.7445 - val_accuracy: 0.0597\n",
      "Epoch 4/20\n",
      "6/6 [==============================] - 0s 4ms/step - loss: 0.7087 - accuracy: 0.1808 - val_loss: 0.7114 - val_accuracy: 0.0597\n",
      "Epoch 5/20\n",
      "6/6 [==============================] - 0s 3ms/step - loss: 0.6527 - accuracy: 0.1654 - val_loss: 0.6818 - val_accuracy: 0.0597\n",
      "Epoch 6/20\n",
      "6/6 [==============================] - 0s 3ms/step - loss: 0.6707 - accuracy: 0.1923 - val_loss: 0.6553 - val_accuracy: 0.0597\n",
      "Epoch 7/20\n",
      "6/6 [==============================] - 0s 3ms/step - loss: 0.6889 - accuracy: 0.1731 - val_loss: 0.6331 - val_accuracy: 0.0597\n"
     ]
    }
   ],
   "source": [
    "history = model.fit(train_ds, epochs=20, validation_data=val_ds, callbacks=[callback])"
   ]
  },
  {
   "cell_type": "code",
   "execution_count": null,
   "metadata": {},
   "outputs": [],
   "source": []
  }
 ],
 "metadata": {
  "kernelspec": {
   "display_name": "upstraight",
   "language": "python",
   "name": "python3"
  },
  "language_info": {
   "codemirror_mode": {
    "name": "ipython",
    "version": 3
   },
   "file_extension": ".py",
   "mimetype": "text/x-python",
   "name": "python",
   "nbconvert_exporter": "python",
   "pygments_lexer": "ipython3",
   "version": "3.10.8"
  },
  "orig_nbformat": 4
 },
 "nbformat": 4,
 "nbformat_minor": 2
}
