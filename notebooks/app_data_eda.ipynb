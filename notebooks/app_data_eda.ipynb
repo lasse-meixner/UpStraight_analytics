{
 "cells": [
  {
   "cell_type": "code",
   "execution_count": 44,
   "metadata": {},
   "outputs": [],
   "source": [
    "import pandas as pd\n",
    "import seaborn as sns\n",
    "import os\n",
    "import sys\n",
    "import matplotlib.pyplot as plt\n",
    "# set sns style to sci\n",
    "sns.set_style(\"whitegrid\")\n",
    "\n",
    "sys.path.append(\"../\")\n",
    "from UpStraight_Data import preprocess"
   ]
  },
  {
   "cell_type": "code",
   "execution_count": 20,
   "metadata": {},
   "outputs": [
    {
     "data": {
      "text/plain": [
       "(386, 4)"
      ]
     },
     "execution_count": 20,
     "metadata": {},
     "output_type": "execute_result"
    }
   ],
   "source": [
    "# for each file in the data folder, read the csv, and add a column with the suffix of the file name\n",
    "# this will be used to identify the source of the data\n",
    "\n",
    "df = pd.concat([pd.read_csv(f\"../data/{f}\").assign(source = f.split(\".\")[0].split(\"_\")[1]) for f in os.listdir(\"../data\") if f.startswith(\"export_\")])\n",
    "df.shape"
   ]
  },
  {
   "cell_type": "code",
   "execution_count": 21,
   "metadata": {},
   "outputs": [
    {
     "data": {
      "text/plain": [
       "date              datetime64[ns, UTC]\n",
       "state                           int64\n",
       "posture                         int64\n",
       "source                         object\n",
       "day                             int64\n",
       "time                           object\n",
       "state_string                   object\n",
       "posture_string                 object\n",
       "dtype: object"
      ]
     },
     "execution_count": 21,
     "metadata": {},
     "output_type": "execute_result"
    }
   ],
   "source": [
    "data = preprocess(df)\n",
    "data.dtypes"
   ]
  },
  {
   "cell_type": "code",
   "execution_count": 48,
   "metadata": {},
   "outputs": [
    {
     "data": {
      "image/png": "[encoded data removed]",
      "text/plain": [
       "<Figure size 640x480 with 1 Axes>"
      ]
     },
     "metadata": {},
     "output_type": "display_data"
    }
   ],
   "source": [
    "# plotting relative proportions of each state\n",
    "sns.countplot(data,x=\"source\",hue=\"state_string\")\n",
    "plt.title(\"Labels by person per state\")\n",
    "plt.show()"
   ]
  },
  {
   "cell_type": "code",
   "execution_count": 76,
   "metadata": {},
   "outputs": [
    {
     "data": {
      "text/html": [
       "<div>\n",
       "<style scoped>\n",
       "    .dataframe tbody tr th:only-of-type {\n",
       "        vertical-align: middle;\n",
       "    }\n",
       "\n",
       "    .dataframe tbody tr th {\n",
       "        vertical-align: top;\n",
       "    }\n",
       "\n",
       "    .dataframe thead th {\n",
       "        text-align: right;\n",
       "    }\n",
       "</style>\n",
       "<table border=\"1\" class=\"dataframe\">\n",
       "  <thead>\n",
       "    <tr style=\"text-align: right;\">\n",
       "      <th>state_string</th>\n",
       "      <th>Active</th>\n",
       "      <th>Lying</th>\n",
       "      <th>Sitting</th>\n",
       "      <th>Standing</th>\n",
       "    </tr>\n",
       "    <tr>\n",
       "      <th>source</th>\n",
       "      <th></th>\n",
       "      <th></th>\n",
       "      <th></th>\n",
       "      <th></th>\n",
       "    </tr>\n",
       "  </thead>\n",
       "  <tbody>\n",
       "    <tr>\n",
       "      <th>cr</th>\n",
       "      <td>8</td>\n",
       "      <td>4</td>\n",
       "      <td>97</td>\n",
       "      <td>30</td>\n",
       "    </tr>\n",
       "    <tr>\n",
       "      <th>dotz</th>\n",
       "      <td>14</td>\n",
       "      <td>9</td>\n",
       "      <td>42</td>\n",
       "      <td>25</td>\n",
       "    </tr>\n",
       "    <tr>\n",
       "      <th>far</th>\n",
       "      <td>10</td>\n",
       "      <td>1</td>\n",
       "      <td>29</td>\n",
       "      <td>1</td>\n",
       "    </tr>\n",
       "    <tr>\n",
       "      <th>lass</th>\n",
       "      <td>10</td>\n",
       "      <td>2</td>\n",
       "      <td>77</td>\n",
       "      <td>27</td>\n",
       "    </tr>\n",
       "  </tbody>\n",
       "</table>\n",
       "</div>"
      ],
      "text/plain": [
       "state_string  Active  Lying  Sitting  Standing\n",
       "source                                        \n",
       "cr                 8      4       97        30\n",
       "dotz              14      9       42        25\n",
       "far               10      1       29         1\n",
       "lass              10      2       77        27"
      ]
     },
     "execution_count": 76,
     "metadata": {},
     "output_type": "execute_result"
    }
   ],
   "source": [
    "# summary table of counts by source and state\n",
    "data.groupby([\"source\",\"state_string\"]).size().unstack().fillna(0).astype(int)\n"
   ]
  },
  {
   "cell_type": "code",
   "execution_count": null,
   "metadata": {},
   "outputs": [],
   "source": []
  }
 ],
 "metadata": {
  "kernelspec": {
   "display_name": "eda",
   "language": "python",
   "name": "python3"
  },
  "language_info": {
   "codemirror_mode": {
    "name": "ipython",
    "version": 3
   },
   "file_extension": ".py",
   "mimetype": "text/x-python",
   "name": "python",
   "nbconvert_exporter": "python",
   "pygments_lexer": "ipython3",
   "version": "3.10.8"
  },
  "orig_nbformat": 4,
  "vscode": {
   "interpreter": {
    "hash": "b2a4b70788b8e9f0334280e3630d9694cae4818bfe1e8062215f71543d4c26e5"
   }
  }
 },
 "nbformat": 4,
 "nbformat_minor": 2
}
